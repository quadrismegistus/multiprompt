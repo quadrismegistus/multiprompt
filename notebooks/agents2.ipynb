{
 "cells": [
  {
   "cell_type": "code",
   "execution_count": 1,
   "metadata": {},
   "outputs": [],
   "source": [
    "import sys; sys.path.append('..')\n",
    "from multiprompt import *"
   ]
  },
  {
   "cell_type": "code",
   "execution_count": 2,
   "metadata": {},
   "outputs": [],
   "source": [
    "agent1 = Agent(name='Adam', model='gpt-4o-mini')\n",
    "agent2 = Agent(name='Eve', model='gpt-4o')"
   ]
  },
  {
   "cell_type": "code",
   "execution_count": 3,
   "metadata": {},
   "outputs": [
    {
     "data": {
      "text/plain": [
       "\"The meaning of life is a profound and philosophical question that has been explored by thinkers, theologians, scientists, and artists throughout history. Different cultures, religions, and individuals offer various interpretations, such as:\\n\\n1. **Philosophical Perspectives**: Some philosophies suggest that life’s meaning is derived from personal fulfillment, the pursuit of knowledge, or the cultivation of virtues like love and compassion.\\n\\n2. **Religious Views**: Many religions propose that the meaning of life is connected to a divine purpose, moral conduct, or the pursuit of spiritual enlightenment.\\n\\n3. **Existentialism**: This philosophy posits that life has no inherent meaning, and it's up to each individual to create their own purpose through choices and actions.\\n\\n4. **Humanism**: This perspective emphasizes the importance of human values and the search for meaning through relationships, creativity, and contributing to society.\\n\\n5. **Personal Meaning**: Ultimately, many people find meaning in personal experiences, relationships, achievements, and the impact they have on others.\\n\\nThe search for meaning is often considered a deeply personal journey, and the answer may vary from person to person. What resonates with one individual may not have the same significance for another.\""
      ]
     },
     "execution_count": 3,
     "metadata": {},
     "output_type": "execute_result"
    }
   ],
   "source": [
    "agent1.get(\"What is the meaning of life?\")"
   ]
  },
  {
   "cell_type": "code",
   "execution_count": null,
   "metadata": {},
   "outputs": [],
   "source": []
  }
 ],
 "metadata": {
  "kernelspec": {
   "display_name": "venv",
   "language": "python",
   "name": "python3"
  },
  "language_info": {
   "codemirror_mode": {
    "name": "ipython",
    "version": 3
   },
   "file_extension": ".py",
   "mimetype": "text/x-python",
   "name": "python",
   "nbconvert_exporter": "python",
   "pygments_lexer": "ipython3",
   "version": "3.10.7"
  }
 },
 "nbformat": 4,
 "nbformat_minor": 2
}
