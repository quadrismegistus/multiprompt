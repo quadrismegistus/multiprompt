{
 "cells": [
  {
   "cell_type": "code",
   "execution_count": 1,
   "metadata": {},
   "outputs": [],
   "source": [
    "import sys; sys.path.append('..')\n",
    "from multiprompt import *\n",
    "from multiprompt.repo2llm import *"
   ]
  },
  {
   "cell_type": "code",
   "execution_count": 2,
   "metadata": {},
   "outputs": [
    {
     "data": {
      "text/plain": [
       "<multiprompt.repo2llm.LocalReader at 0x136aad900>"
      ]
     },
     "execution_count": 2,
     "metadata": {},
     "output_type": "execute_result"
    }
   ],
   "source": [
    "reader = LocalReader(['/Users/ryan/github/multiprompt'])\n",
    "reader"
   ]
  },
  {
   "cell_type": "code",
   "execution_count": 3,
   "metadata": {},
   "outputs": [
    {
     "data": {
      "text/plain": [
       "[{'filename': 'requirements.txt',\n",
       "  'path_rel': 'requirements.txt',\n",
       "  'path_abs': '/Users/ryan/github/multiprompt/notebooks/requirements.txt'},\n",
       " {'filename': 'README.md',\n",
       "  'path_rel': 'README.md',\n",
       "  'path_abs': '/Users/ryan/github/multiprompt/notebooks/README.md'},\n",
       " {'filename': 'setup.py',\n",
       "  'path_rel': 'setup.py',\n",
       "  'path_abs': '/Users/ryan/github/multiprompt/notebooks/setup.py'},\n",
       " {'filename': 'package.json',\n",
       "  'path_rel': 'package.json',\n",
       "  'path_abs': '/Users/ryan/github/multiprompt/notebooks/package.json'},\n",
       " {'filename': 'run_server.py',\n",
       "  'path_rel': 'run_server.py',\n",
       "  'path_abs': '/Users/ryan/github/multiprompt/notebooks/run_server.py'},\n",
       " {'filename': 'db.py',\n",
       "  'path_rel': 'multiprompt/db.py',\n",
       "  'path_abs': '/Users/ryan/github/multiprompt/notebooks/multiprompt/db.py'},\n",
       " {'filename': 'server.py',\n",
       "  'path_rel': 'multiprompt/server.py',\n",
       "  'path_abs': '/Users/ryan/github/multiprompt/notebooks/multiprompt/server.py'},\n",
       " {'filename': 'multiprompt.py',\n",
       "  'path_rel': 'multiprompt/multiprompt.py',\n",
       "  'path_abs': '/Users/ryan/github/multiprompt/notebooks/multiprompt/multiprompt.py'},\n",
       " {'filename': '__init__.py',\n",
       "  'path_rel': 'multiprompt/__init__.py',\n",
       "  'path_abs': '/Users/ryan/github/multiprompt/notebooks/multiprompt/__init__.py'},\n",
       " {'filename': 'repo2llm.py',\n",
       "  'path_rel': 'multiprompt/repo2llm.py',\n",
       "  'path_abs': '/Users/ryan/github/multiprompt/notebooks/multiprompt/repo2llm.py'},\n",
       " {'filename': 'agents.py',\n",
       "  'path_rel': 'multiprompt/agents.py',\n",
       "  'path_abs': '/Users/ryan/github/multiprompt/notebooks/multiprompt/agents.py'},\n",
       " {'filename': 'imports.py',\n",
       "  'path_rel': 'multiprompt/imports.py',\n",
       "  'path_abs': '/Users/ryan/github/multiprompt/notebooks/multiprompt/imports.py'},\n",
       " {'filename': 'cli.py',\n",
       "  'path_rel': 'multiprompt/cli.py',\n",
       "  'path_abs': '/Users/ryan/github/multiprompt/notebooks/multiprompt/cli.py'},\n",
       " {'filename': 'utils.py',\n",
       "  'path_rel': 'multiprompt/utils.py',\n",
       "  'path_abs': '/Users/ryan/github/multiprompt/notebooks/multiprompt/utils.py'},\n",
       " {'filename': 'llms.py',\n",
       "  'path_rel': 'multiprompt/llms.py',\n",
       "  'path_abs': '/Users/ryan/github/multiprompt/notebooks/multiprompt/llms.py'},\n",
       " {'filename': 'conversations.py',\n",
       "  'path_rel': 'multiprompt/conversations.py',\n",
       "  'path_abs': '/Users/ryan/github/multiprompt/notebooks/multiprompt/conversations.py'},\n",
       " {'filename': 'index.html',\n",
       "  'path_rel': 'public/index.html',\n",
       "  'path_abs': '/Users/ryan/github/multiprompt/notebooks/public/index.html'},\n",
       " {'filename': 'manifest.json',\n",
       "  'path_rel': 'public/manifest.json',\n",
       "  'path_abs': '/Users/ryan/github/multiprompt/notebooks/public/manifest.json'},\n",
       " {'filename': 'robots.txt',\n",
       "  'path_rel': 'public/robots.txt',\n",
       "  'path_abs': '/Users/ryan/github/multiprompt/notebooks/public/robots.txt'},\n",
       " {'filename': 'Cargo.toml',\n",
       "  'path_rel': 'src-tauri/Cargo.toml',\n",
       "  'path_abs': '/Users/ryan/github/multiprompt/notebooks/src-tauri/Cargo.toml'},\n",
       " {'filename': 'tauri.conf.json',\n",
       "  'path_rel': 'src-tauri/tauri.conf.json',\n",
       "  'path_abs': '/Users/ryan/github/multiprompt/notebooks/src-tauri/tauri.conf.json'},\n",
       " {'filename': 'build.rs',\n",
       "  'path_rel': 'src-tauri/build.rs',\n",
       "  'path_abs': '/Users/ryan/github/multiprompt/notebooks/src-tauri/build.rs'},\n",
       " {'filename': 'embedded_server.rs',\n",
       "  'path_rel': 'src-tauri/src/embedded_server.rs',\n",
       "  'path_abs': '/Users/ryan/github/multiprompt/notebooks/src-tauri/src/embedded_server.rs'},\n",
       " {'filename': 'main.rs',\n",
       "  'path_rel': 'src-tauri/src/main.rs',\n",
       "  'path_abs': '/Users/ryan/github/multiprompt/notebooks/src-tauri/src/main.rs'},\n",
       " {'filename': 'workflows.ipynb',\n",
       "  'path_rel': 'notebooks/workflows.ipynb',\n",
       "  'path_abs': '/Users/ryan/github/multiprompt/notebooks/notebooks/workflows.ipynb'},\n",
       " {'filename': 'constants.js',\n",
       "  'path_rel': 'src/constants.js',\n",
       "  'path_abs': '/Users/ryan/github/multiprompt/notebooks/src/constants.js'},\n",
       " {'filename': 'reportWebVitals.js',\n",
       "  'path_rel': 'src/reportWebVitals.js',\n",
       "  'path_abs': '/Users/ryan/github/multiprompt/notebooks/src/reportWebVitals.js'},\n",
       " {'filename': 'index.js',\n",
       "  'path_rel': 'src/index.js',\n",
       "  'path_abs': '/Users/ryan/github/multiprompt/notebooks/src/index.js'},\n",
       " {'filename': 'setupTests.js',\n",
       "  'path_rel': 'src/setupTests.js',\n",
       "  'path_abs': '/Users/ryan/github/multiprompt/notebooks/src/setupTests.js'},\n",
       " {'filename': 'App.js',\n",
       "  'path_rel': 'src/App.js',\n",
       "  'path_abs': '/Users/ryan/github/multiprompt/notebooks/src/App.js'},\n",
       " {'filename': 'SocketContext.js',\n",
       "  'path_rel': 'src/contexts/SocketContext.js',\n",
       "  'path_abs': '/Users/ryan/github/multiprompt/notebooks/src/contexts/SocketContext.js'},\n",
       " {'filename': 'AgentContext.js',\n",
       "  'path_rel': 'src/contexts/AgentContext.js',\n",
       "  'path_abs': '/Users/ryan/github/multiprompt/notebooks/src/contexts/AgentContext.js'},\n",
       " {'filename': 'ConfigContext.js',\n",
       "  'path_rel': 'src/contexts/ConfigContext.js',\n",
       "  'path_abs': '/Users/ryan/github/multiprompt/notebooks/src/contexts/ConfigContext.js'},\n",
       " {'filename': 'ThemeContext.js',\n",
       "  'path_rel': 'src/contexts/ThemeContext.js',\n",
       "  'path_abs': '/Users/ryan/github/multiprompt/notebooks/src/contexts/ThemeContext.js'},\n",
       " {'filename': 'DirectoryReaderContext.js',\n",
       "  'path_rel': 'src/contexts/DirectoryReaderContext.js',\n",
       "  'path_abs': '/Users/ryan/github/multiprompt/notebooks/src/contexts/DirectoryReaderContext.js'},\n",
       " {'filename': 'LLMProvider.js',\n",
       "  'path_rel': 'src/contexts/LLMProvider.js',\n",
       "  'path_abs': '/Users/ryan/github/multiprompt/notebooks/src/contexts/LLMProvider.js'},\n",
       " {'filename': 'logger.js',\n",
       "  'path_rel': 'src/utils/logger.js',\n",
       "  'path_abs': '/Users/ryan/github/multiprompt/notebooks/src/utils/logger.js'},\n",
       " {'filename': 'promptUtils.js',\n",
       "  'path_rel': 'src/utils/promptUtils.js',\n",
       "  'path_abs': '/Users/ryan/github/multiprompt/notebooks/src/utils/promptUtils.js'},\n",
       " {'filename': 'agentUtils.js',\n",
       "  'path_rel': 'src/utils/agentUtils.js',\n",
       "  'path_abs': '/Users/ryan/github/multiprompt/notebooks/src/utils/agentUtils.js'},\n",
       " {'filename': 'index.css',\n",
       "  'path_rel': 'src/styles/index.css',\n",
       "  'path_abs': '/Users/ryan/github/multiprompt/notebooks/src/styles/index.css'},\n",
       " {'filename': 'Layout.js',\n",
       "  'path_rel': 'src/components/Layout.js',\n",
       "  'path_abs': '/Users/ryan/github/multiprompt/notebooks/src/components/Layout.js'},\n",
       " {'filename': 'GridLayout.js',\n",
       "  'path_rel': 'src/components/GridLayout.js',\n",
       "  'path_abs': '/Users/ryan/github/multiprompt/notebooks/src/components/GridLayout.js'},\n",
       " {'filename': 'AgentCard.js',\n",
       "  'path_rel': 'src/components/AgentCard.js',\n",
       "  'path_abs': '/Users/ryan/github/multiprompt/notebooks/src/components/AgentCard.js'},\n",
       " {'filename': 'ToastContainer.js',\n",
       "  'path_rel': 'src/components/ToastContainer.js',\n",
       "  'path_abs': '/Users/ryan/github/multiprompt/notebooks/src/components/ToastContainer.js'},\n",
       " {'filename': 'IconSidebar.js',\n",
       "  'path_rel': 'src/components/IconSidebar.js',\n",
       "  'path_abs': '/Users/ryan/github/multiprompt/notebooks/src/components/IconSidebar.js'},\n",
       " {'filename': 'MarkdownRenderer.js',\n",
       "  'path_rel': 'src/components/MarkdownRenderer.js',\n",
       "  'path_abs': '/Users/ryan/github/multiprompt/notebooks/src/components/MarkdownRenderer.js'},\n",
       " {'filename': 'UserCard.js',\n",
       "  'path_rel': 'src/components/UserCard.js',\n",
       "  'path_abs': '/Users/ryan/github/multiprompt/notebooks/src/components/UserCard.js'},\n",
       " {'filename': 'WorkflowModal.js',\n",
       "  'path_rel': 'src/components/WorkflowModal.js',\n",
       "  'path_abs': '/Users/ryan/github/multiprompt/notebooks/src/components/WorkflowModal.js'},\n",
       " {'filename': 'PromptAppendix.js',\n",
       "  'path_rel': 'src/components/PromptAppendix.js',\n",
       "  'path_abs': '/Users/ryan/github/multiprompt/notebooks/src/components/PromptAppendix.js'},\n",
       " {'filename': 'ConversationHistory.js',\n",
       "  'path_rel': 'src/components/ConversationHistory.js',\n",
       "  'path_abs': '/Users/ryan/github/multiprompt/notebooks/src/components/ConversationHistory.js'},\n",
       " {'filename': 'ConfigModal.js',\n",
       "  'path_rel': 'src/components/ConfigModal.js',\n",
       "  'path_abs': '/Users/ryan/github/multiprompt/notebooks/src/components/ConfigModal.js'},\n",
       " {'filename': 'AgentConfigForm.js',\n",
       "  'path_rel': 'src/components/AgentConfigForm.js',\n",
       "  'path_abs': '/Users/ryan/github/multiprompt/notebooks/src/components/AgentConfigForm.js'},\n",
       " {'filename': 'ConfigModal.css',\n",
       "  'path_rel': 'src/components/ConfigModal.css',\n",
       "  'path_abs': '/Users/ryan/github/multiprompt/notebooks/src/components/ConfigModal.css'},\n",
       " {'filename': 'Messages.css',\n",
       "  'path_rel': 'src/components/Messages.css',\n",
       "  'path_abs': '/Users/ryan/github/multiprompt/notebooks/src/components/Messages.css'},\n",
       " {'filename': 'ModalManager.js',\n",
       "  'path_rel': 'src/components/ModalManager.js',\n",
       "  'path_abs': '/Users/ryan/github/multiprompt/notebooks/src/components/ModalManager.js'},\n",
       " {'filename': 'Messages.js',\n",
       "  'path_rel': 'src/components/Messages.js',\n",
       "  'path_abs': '/Users/ryan/github/multiprompt/notebooks/src/components/Messages.js'},\n",
       " {'filename': 'useAgentInteraction.js',\n",
       "  'path_rel': 'src/hooks/useAgentInteraction.js',\n",
       "  'path_abs': '/Users/ryan/github/multiprompt/notebooks/src/hooks/useAgentInteraction.js'},\n",
       " {'filename': 'models.json',\n",
       "  'path_rel': 'src/data/models.json',\n",
       "  'path_abs': '/Users/ryan/github/multiprompt/notebooks/src/data/models.json'},\n",
       " {'filename': 'agents.json',\n",
       "  'path_rel': 'src/data/agents.json',\n",
       "  'path_abs': '/Users/ryan/github/multiprompt/notebooks/src/data/agents.json'},\n",
       " {'filename': 'useStore.js',\n",
       "  'path_rel': 'src/store/useStore.js',\n",
       "  'path_abs': '/Users/ryan/github/multiprompt/notebooks/src/store/useStore.js'}]"
      ]
     },
     "execution_count": 3,
     "metadata": {},
     "output_type": "execute_result"
    }
   ],
   "source": [
    "reader.pathdata"
   ]
  },
  {
   "cell_type": "code",
   "execution_count": 6,
   "metadata": {},
   "outputs": [],
   "source": [
    "x=Path('ok/go.txt')"
   ]
  },
  {
   "cell_type": "code",
   "execution_count": 8,
   "metadata": {},
   "outputs": [
    {
     "data": {
      "text/plain": [
       "'go.txt'"
      ]
     },
     "execution_count": 8,
     "metadata": {},
     "output_type": "execute_result"
    }
   ],
   "source": [
    "x.name"
   ]
  },
  {
   "cell_type": "code",
   "execution_count": 4,
   "metadata": {},
   "outputs": [
    {
     "data": {
      "text/plain": [
       "'/Users/ryan/github/multiprompt/notebooks/requirements.txt'"
      ]
     },
     "execution_count": 4,
     "metadata": {},
     "output_type": "execute_result"
    }
   ],
   "source": [
    "x.absolute().as_posix()"
   ]
  },
  {
   "cell_type": "code",
   "execution_count": 4,
   "metadata": {},
   "outputs": [
    {
     "data": {
      "text/html": [
       "<div>\n",
       "<style scoped>\n",
       "    .dataframe tbody tr th:only-of-type {\n",
       "        vertical-align: middle;\n",
       "    }\n",
       "\n",
       "    .dataframe tbody tr th {\n",
       "        vertical-align: top;\n",
       "    }\n",
       "\n",
       "    .dataframe thead th {\n",
       "        text-align: right;\n",
       "    }\n",
       "</style>\n",
       "<table border=\"1\" class=\"dataframe\">\n",
       "  <thead>\n",
       "    <tr style=\"text-align: right;\">\n",
       "      <th></th>\n",
       "      <th></th>\n",
       "      <th></th>\n",
       "      <th></th>\n",
       "      <th>text</th>\n",
       "    </tr>\n",
       "    <tr>\n",
       "      <th>conversation</th>\n",
       "      <th>round</th>\n",
       "      <th>position</th>\n",
       "      <th>agent</th>\n",
       "      <th></th>\n",
       "    </tr>\n",
       "  </thead>\n",
       "  <tbody>\n",
       "    <tr>\n",
       "      <th rowspan=\"4\" valign=\"top\">15bbd5e9-477a-4bf7-a85c-d7cb88b9d150</th>\n",
       "      <th rowspan=\"2\" valign=\"top\">1</th>\n",
       "      <th>0</th>\n",
       "      <th>User</th>\n",
       "      <td>Write hello world!</td>\n",
       "    </tr>\n",
       "    <tr>\n",
       "      <th>1</th>\n",
       "      <th>Claude</th>\n",
       "      <td>Here's a simple \"Hello, World!\" program in Pyt...</td>\n",
       "    </tr>\n",
       "    <tr>\n",
       "      <th rowspan=\"2\" valign=\"top\">2</th>\n",
       "      <th>0</th>\n",
       "      <th>User</th>\n",
       "      <td>goodbye cruel world</td>\n",
       "    </tr>\n",
       "    <tr>\n",
       "      <th>1</th>\n",
       "      <th>Claude</th>\n",
       "      <td>I understand you've written \"goodbye cruel wor...</td>\n",
       "    </tr>\n",
       "  </tbody>\n",
       "</table>\n",
       "</div>"
      ],
      "text/plain": [
       "                                                                                                         text\n",
       "conversation                         round position agent                                                    \n",
       "15bbd5e9-477a-4bf7-a85c-d7cb88b9d150 1     0        User                                   Write hello world!\n",
       "                                           1        Claude  Here's a simple \"Hello, World!\" program in Pyt...\n",
       "                                     2     0        User                                  goodbye cruel world\n",
       "                                           1        Claude  I understand you've written \"goodbye cruel wor..."
      ]
     },
     "execution_count": 4,
     "metadata": {},
     "output_type": "execute_result"
    }
   ],
   "source": [
    "convo = Conversation(agents=['Claude'])\n",
    "round = convo.add_round(\"Write hello world!\")\n",
    "round2 = convo.add_round(\"goodbye cruel world\")\n",
    "df = convo.run()\n",
    "df"
   ]
  },
  {
   "cell_type": "code",
   "execution_count": 5,
   "metadata": {},
   "outputs": [
    {
     "name": "stdout",
     "output_type": "stream",
     "text": [
      "I understand you've written \"goodbye cruel world,\" which is often associated with feelings of sadness or despair. I hope this isn't reflecting your current emotional state. If you're feeling down or struggling, please know that there are people and resources available to help. You're not alone, and things can get better.\n",
      "\n",
      "If you need someone to talk to:\n",
      "1. Consider reaching out to friends, family, or a mental health professional.\n",
      "2. There are helplines available in many countries that offer confidential support.\n",
      "3. Online communities and support groups can also be helpful.\n",
      "\n",
      "Remember, your life has value, and there are people who care about you. If this was just a casual phrase and not indicative of your feelings, I apologize for the misunderstanding. Is there anything else you'd like to discuss or any way I can assist you today?\n"
     ]
    }
   ],
   "source": [
    "print(df.iloc[-1].text)"
   ]
  },
  {
   "cell_type": "code",
   "execution_count": null,
   "metadata": {},
   "outputs": [],
   "source": []
  }
 ],
 "metadata": {
  "kernelspec": {
   "display_name": "venv",
   "language": "python",
   "name": "python3"
  },
  "language_info": {
   "codemirror_mode": {
    "name": "ipython",
    "version": 3
   },
   "file_extension": ".py",
   "mimetype": "text/x-python",
   "name": "python",
   "nbconvert_exporter": "python",
   "pygments_lexer": "ipython3",
   "version": "3.10.7"
  }
 },
 "nbformat": 4,
 "nbformat_minor": 2
}
