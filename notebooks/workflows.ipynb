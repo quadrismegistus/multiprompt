{
 "cells": [
  {
   "cell_type": "code",
   "execution_count": 1,
   "metadata": {},
   "outputs": [],
   "source": [
    "import sys; sys.path.append('..')\n",
    "from multiprompt import *\n",
    "from multiprompt.repo2llm import *"
   ]
  },
  {
   "cell_type": "code",
   "execution_count": 2,
   "metadata": {},
   "outputs": [
    {
     "ename": "TypeError",
     "evalue": "tuple indices must be integers or slices, not str",
     "output_type": "error",
     "traceback": [
      "\u001b[0;31m---------------------------------------------------------------------------\u001b[0m",
      "\u001b[0;31mTypeError\u001b[0m                                 Traceback (most recent call last)",
      "Cell \u001b[0;32mIn[2], line 6\u001b[0m\n\u001b[1;32m      4\u001b[0m \u001b[38;5;28mround\u001b[39m \u001b[38;5;241m=\u001b[39m convo\u001b[38;5;241m.\u001b[39madd_round(\u001b[38;5;124m\"\u001b[39m\u001b[38;5;124m???!!!\u001b[39m\u001b[38;5;124m\"\u001b[39m, attachments\u001b[38;5;241m=\u001b[39mattachments)\n\u001b[1;32m      5\u001b[0m \u001b[38;5;66;03m# # round2 = convo.add_round(\"goodbye cruel world\")\u001b[39;00m\n\u001b[0;32m----> 6\u001b[0m df \u001b[38;5;241m=\u001b[39m \u001b[43mconvo\u001b[49m\u001b[38;5;241;43m.\u001b[39;49m\u001b[43mrun\u001b[49m\u001b[43m(\u001b[49m\u001b[43m)\u001b[49m\n\u001b[1;32m      7\u001b[0m df\n",
      "File \u001b[0;32m~/github/multiprompt/multiprompt/conversations.py:216\u001b[0m, in \u001b[0;36mConversationModel.run\u001b[0;34m(self, return_df, by_token)\u001b[0m\n\u001b[1;32m    212\u001b[0m     \u001b[38;5;28;01mreturn\u001b[39;00m [\n\u001b[1;32m    213\u001b[0m         res \u001b[38;5;28;01mfor\u001b[39;00m \u001b[38;5;28mround\u001b[39m \u001b[38;5;129;01min\u001b[39;00m \u001b[38;5;28mself\u001b[39m\u001b[38;5;241m.\u001b[39mrounds \u001b[38;5;28;01mfor\u001b[39;00m res \u001b[38;5;129;01min\u001b[39;00m \u001b[38;5;28mround\u001b[39m\u001b[38;5;241m.\u001b[39mrun(return_df\u001b[38;5;241m=\u001b[39mreturn_df, by_token\u001b[38;5;241m=\u001b[39mby_token)\n\u001b[1;32m    214\u001b[0m     ]\n\u001b[1;32m    215\u001b[0m \u001b[38;5;28;01melse\u001b[39;00m:\n\u001b[0;32m--> 216\u001b[0m     o \u001b[38;5;241m=\u001b[39m [\u001b[38;5;28mround\u001b[39m\u001b[38;5;241m.\u001b[39mrun(return_df\u001b[38;5;241m=\u001b[39mreturn_df, by_token\u001b[38;5;241m=\u001b[39mby_token) \u001b[38;5;28;01mfor\u001b[39;00m \u001b[38;5;28mround\u001b[39m \u001b[38;5;129;01min\u001b[39;00m \u001b[38;5;28mself\u001b[39m\u001b[38;5;241m.\u001b[39mrounds]\n\u001b[1;32m    217\u001b[0m     \u001b[38;5;28;01mreturn\u001b[39;00m pd\u001b[38;5;241m.\u001b[39mconcat(o) \u001b[38;5;28;01mif\u001b[39;00m \u001b[38;5;28mlen\u001b[39m(o) \u001b[38;5;28;01melse\u001b[39;00m pd\u001b[38;5;241m.\u001b[39mDataFrame()\n",
      "File \u001b[0;32m~/github/multiprompt/multiprompt/conversations.py:216\u001b[0m, in \u001b[0;36m<listcomp>\u001b[0;34m(.0)\u001b[0m\n\u001b[1;32m    212\u001b[0m     \u001b[38;5;28;01mreturn\u001b[39;00m [\n\u001b[1;32m    213\u001b[0m         res \u001b[38;5;28;01mfor\u001b[39;00m \u001b[38;5;28mround\u001b[39m \u001b[38;5;129;01min\u001b[39;00m \u001b[38;5;28mself\u001b[39m\u001b[38;5;241m.\u001b[39mrounds \u001b[38;5;28;01mfor\u001b[39;00m res \u001b[38;5;129;01min\u001b[39;00m \u001b[38;5;28mround\u001b[39m\u001b[38;5;241m.\u001b[39mrun(return_df\u001b[38;5;241m=\u001b[39mreturn_df, by_token\u001b[38;5;241m=\u001b[39mby_token)\n\u001b[1;32m    214\u001b[0m     ]\n\u001b[1;32m    215\u001b[0m \u001b[38;5;28;01melse\u001b[39;00m:\n\u001b[0;32m--> 216\u001b[0m     o \u001b[38;5;241m=\u001b[39m [\u001b[38;5;28;43mround\u001b[39;49m\u001b[38;5;241;43m.\u001b[39;49m\u001b[43mrun\u001b[49m\u001b[43m(\u001b[49m\u001b[43mreturn_df\u001b[49m\u001b[38;5;241;43m=\u001b[39;49m\u001b[43mreturn_df\u001b[49m\u001b[43m,\u001b[49m\u001b[43m \u001b[49m\u001b[43mby_token\u001b[49m\u001b[38;5;241;43m=\u001b[39;49m\u001b[43mby_token\u001b[49m\u001b[43m)\u001b[49m \u001b[38;5;28;01mfor\u001b[39;00m \u001b[38;5;28mround\u001b[39m \u001b[38;5;129;01min\u001b[39;00m \u001b[38;5;28mself\u001b[39m\u001b[38;5;241m.\u001b[39mrounds]\n\u001b[1;32m    217\u001b[0m     \u001b[38;5;28;01mreturn\u001b[39;00m pd\u001b[38;5;241m.\u001b[39mconcat(o) \u001b[38;5;28;01mif\u001b[39;00m \u001b[38;5;28mlen\u001b[39m(o) \u001b[38;5;28;01melse\u001b[39;00m pd\u001b[38;5;241m.\u001b[39mDataFrame()\n",
      "File \u001b[0;32m~/github/multiprompt/multiprompt/conversations.py:170\u001b[0m, in \u001b[0;36mConversationRound.run\u001b[0;34m(self, return_df, by_token)\u001b[0m\n\u001b[1;32m    168\u001b[0m     odf \u001b[38;5;241m=\u001b[39m odf\u001b[38;5;241m.\u001b[39mset_index([\u001b[38;5;124m\"\u001b[39m\u001b[38;5;124mconversation\u001b[39m\u001b[38;5;124m\"\u001b[39m, \u001b[38;5;124m\"\u001b[39m\u001b[38;5;124mround\u001b[39m\u001b[38;5;124m\"\u001b[39m, \u001b[38;5;124m\"\u001b[39m\u001b[38;5;124mposition\u001b[39m\u001b[38;5;124m\"\u001b[39m, \u001b[38;5;124m\"\u001b[39m\u001b[38;5;124magent\u001b[39m\u001b[38;5;124m\"\u001b[39m, \u001b[38;5;124m\"\u001b[39m\u001b[38;5;124mtoken_num\u001b[39m\u001b[38;5;124m\"\u001b[39m])\n\u001b[1;32m    169\u001b[0m \u001b[38;5;28;01melse\u001b[39;00m:\n\u001b[0;32m--> 170\u001b[0m     odf \u001b[38;5;241m=\u001b[39m \u001b[43mdetokenize_convo_df\u001b[49m\u001b[43m(\u001b[49m\u001b[43modf\u001b[49m\u001b[43m)\u001b[49m\n\u001b[1;32m    171\u001b[0m \u001b[38;5;28;01mreturn\u001b[39;00m odf\u001b[38;5;241m.\u001b[39msort_index()\n",
      "File \u001b[0;32m~/github/multiprompt/multiprompt/conversations.py:257\u001b[0m, in \u001b[0;36mdetokenize_convo_df\u001b[0;34m(df)\u001b[0m\n\u001b[1;32m    255\u001b[0m \u001b[38;5;28;01mfor\u001b[39;00m g,gdf \u001b[38;5;129;01min\u001b[39;00m \u001b[38;5;28msorted\u001b[39m(df\u001b[38;5;241m.\u001b[39mgroupby(gby)):\n\u001b[1;32m    256\u001b[0m     d\u001b[38;5;241m=\u001b[39m\u001b[38;5;28mdict\u001b[39m(\u001b[38;5;28mzip\u001b[39m(gby,g))\n\u001b[0;32m--> 257\u001b[0m     sep\u001b[38;5;241m=\u001b[39m(\u001b[38;5;124m'\u001b[39m\u001b[38;5;124m'\u001b[39m \u001b[38;5;28;01mif\u001b[39;00m \u001b[43mg\u001b[49m\u001b[43m[\u001b[49m\u001b[38;5;124;43m'\u001b[39;49m\u001b[38;5;124;43magent\u001b[39;49m\u001b[38;5;124;43m'\u001b[39;49m\u001b[43m]\u001b[49m\u001b[38;5;241m!=\u001b[39m\u001b[38;5;124m'\u001b[39m\u001b[38;5;124mUser\u001b[39m\u001b[38;5;124m'\u001b[39m \u001b[38;5;28;01melse\u001b[39;00m \u001b[38;5;124m'\u001b[39m\u001b[38;5;130;01m\\n\u001b[39;00m\u001b[38;5;130;01m\\n\u001b[39;00m\u001b[38;5;130;01m\\n\u001b[39;00m\u001b[38;5;124m'\u001b[39m)\n\u001b[1;32m    258\u001b[0m     d[\u001b[38;5;124m'\u001b[39m\u001b[38;5;124mtext\u001b[39m\u001b[38;5;124m'\u001b[39m]\u001b[38;5;241m=\u001b[39msep\u001b[38;5;241m.\u001b[39mjoin(gdf\u001b[38;5;241m.\u001b[39mtoken)\u001b[38;5;241m.\u001b[39mstrip()\n\u001b[1;32m    259\u001b[0m     o\u001b[38;5;241m.\u001b[39mappend(d)\n",
      "\u001b[0;31mTypeError\u001b[0m: tuple indices must be integers or slices, not str"
     ]
    }
   ],
   "source": [
    "attachments=['/Users/ryan/github/multiprompt/multiprompt/multiprompt.py', '/Users/ryan/github/multiprompt/multiprompt/imports.py']\n",
    "\n",
    "convo = Conversation(agents=['GPT-4o'])\n",
    "round = convo.add_round(\"???!!!\", attachments=attachments)\n",
    "# # round2 = convo.add_round(\"goodbye cruel world\")\n",
    "df = convo.run()\n",
    "df"
   ]
  },
  {
   "cell_type": "code",
   "execution_count": 4,
   "metadata": {},
   "outputs": [
    {
     "data": {
      "text/html": [
       "<div>\n",
       "<style scoped>\n",
       "    .dataframe tbody tr th:only-of-type {\n",
       "        vertical-align: middle;\n",
       "    }\n",
       "\n",
       "    .dataframe tbody tr th {\n",
       "        vertical-align: top;\n",
       "    }\n",
       "\n",
       "    .dataframe thead th {\n",
       "        text-align: right;\n",
       "    }\n",
       "</style>\n",
       "<table border=\"1\" class=\"dataframe\">\n",
       "  <thead>\n",
       "    <tr style=\"text-align: right;\">\n",
       "      <th></th>\n",
       "      <th></th>\n",
       "      <th></th>\n",
       "      <th></th>\n",
       "      <th>text</th>\n",
       "    </tr>\n",
       "    <tr>\n",
       "      <th>conversation</th>\n",
       "      <th>round</th>\n",
       "      <th>position</th>\n",
       "      <th>agent</th>\n",
       "      <th></th>\n",
       "    </tr>\n",
       "  </thead>\n",
       "  <tbody>\n",
       "    <tr>\n",
       "      <th rowspan=\"2\" valign=\"top\">d1a61eac-39cd-4ef7-b060-6742cc731a1e</th>\n",
       "      <th rowspan=\"2\" valign=\"top\">1</th>\n",
       "      <th>0</th>\n",
       "      <th>User</th>\n",
       "      <td>???!!!## Appendix to user prompt\\n\\n### Conten...</td>\n",
       "    </tr>\n",
       "    <tr>\n",
       "      <th>1</th>\n",
       "      <th>GPT-4o</th>\n",
       "      <td>## Response from GPT-4o\\n\\nThe provided files ...</td>\n",
       "    </tr>\n",
       "  </tbody>\n",
       "</table>\n",
       "</div>"
      ],
      "text/plain": [
       "                                                                                                         text\n",
       "conversation                         round position agent                                                    \n",
       "d1a61eac-39cd-4ef7-b060-6742cc731a1e 1     0        User    ???!!!## Appendix to user prompt\\n\\n### Conten...\n",
       "                                           1        GPT-4o  ## Response from GPT-4o\\n\\nThe provided files ..."
      ]
     },
     "execution_count": 4,
     "metadata": {},
     "output_type": "execute_result"
    }
   ],
   "source": []
  },
  {
   "cell_type": "code",
   "execution_count": null,
   "metadata": {},
   "outputs": [
    {
     "data": {
      "text/plain": [
       "'The `imports.py` file contains a wide array of imports and configurations which are essential for the functioning of the `multiprompt.py` file. Here is a breakdown of the major components and their roles:\\n\\n1. **Standard Library Imports**:\\n    - `typing`, `uuid`, `logging`, `threading`, `json`, `asyncio`, `collections`, `queue`, `warnings`, `os`, `random`, `pprint`, `hashlib`, `argparse`, `re`, `tempfile`, `shutil`, and `fnmatch` are imported for various utility functions.\\n    - `warnings` is used to suppress warnings.\\n    - `functools` is used for caching via `lru_cache` and `cached_property`.\\n\\n2. **External Library Imports**:\\n    - `pandas as pd` for data manipulation.\\n    - `socketio` and `aiohttp.web` for socket communication and web functionalities.\\n    - `dotenv` for loading environment variables.\\n    - `litellm` for likely interfacing with language models.\\n    - `fastapi` for building the web framework, along with `WebSocket`, `StaticFiles`, `FileResponse`, and `JSONResponse` for handling various web-related functionalities.\\n    - `sqlitedict` for SQLite-backed dictionary functionalities.\\n    - `celery` for task queue management.\\n    - `pathlib.Path` and `tqdm` for path handling and progress bars.\\n    - `pathspec` for handling path specifications and patterns.\\n    - `git.Repo` for Git repository handling.\\n    - `urllib.parse` for URL parsing.\\n    - `abc` for abstract base classes.\\n\\n3. **Logger Configuration**:\\n    - Multiple configurations for logging, including setting specific logging levels for certain libraries to suppress their outputs.\\n    - `logger` instances for logging within the module.\\n\\n4. **Environment Variables**:\\n    - Using `dotenv.load_dotenv()` to load environment variables.\\n    - Getting API keys for `ANTHROPIC`, `OPENAI`, and `GEMINI` from environment variables.\\n\\n5. **Model Configurations**:\\n    - `MODEL_CATEGORIES` and `MODEL_DICT` dictionaries to categorize and map model names.\\n    - Default model configurations such as `DEFAULT_MAX_TOKENS`, `DEFAULT_MODELS`, `DEFAULT_MODEL`, `DEFAULT_OPENAI_MODEL`, `DEFAULT_ANTHROPIC_MODEL`, `DEFAULT_GEMINI_MODEL`, `DEFAULT_SUMMARY_MODEL`, `DEFAULT_TEMP`, `DEFAULT_SYSTEM_PROMPT`, `DEFAULT_SUMMARY_SYSTEM_PROMPT`, `DEFAULT_SUMMARY_USER_PROMPT`, and `DEFAULT_INCL_REPO`.\\n\\n6. **Path Configurations**:\\n    - Paths for home directory, data, cache, repo, source, agents configuration, and models configuration.\\n\\n7. **File Extensions**:\\n    - `REPO2LLM_EXTENSIONS` lists file extensions relevant to the repository handling functions.\\n\\n### Summary\\n\\nIn summary, `imports.py` serves as the backbone for various functionalities required by `multiprompt.py` by importing necessary libraries, setting up configurations, environment variables, model mappings, paths, and logging. This modular approach ensures that `multiprompt.py` can focus on its core logic while relying on `imports.py` for all auxiliary setups and configurations.'"
      ]
     },
     "execution_count": 5,
     "metadata": {},
     "output_type": "execute_result"
    }
   ],
   "source": []
  },
  {
   "cell_type": "code",
   "execution_count": null,
   "metadata": {},
   "outputs": [],
   "source": []
  },
  {
   "cell_type": "code",
   "execution_count": null,
   "metadata": {},
   "outputs": [
    {
     "data": {
      "text/markdown": [
       "## Appendix to user prompt\n",
       "\n",
       "### Contents of file: `multiprompt.py`\n",
       "\n",
       "```py\n",
       "from .imports import *\n",
       "from .agents import *\n",
       "from .conversations import *\n",
       "from .llms import *```"
      ],
      "text/plain": [
       "<IPython.core.display.Markdown object>"
      ]
     },
     "metadata": {},
     "output_type": "display_data"
    }
   ],
   "source": []
  },
  {
   "cell_type": "code",
   "execution_count": null,
   "metadata": {},
   "outputs": [],
   "source": []
  }
 ],
 "metadata": {
  "kernelspec": {
   "display_name": "venv",
   "language": "python",
   "name": "python3"
  },
  "language_info": {
   "codemirror_mode": {
    "name": "ipython",
    "version": 3
   },
   "file_extension": ".py",
   "mimetype": "text/x-python",
   "name": "python",
   "nbconvert_exporter": "python",
   "pygments_lexer": "ipython3",
   "version": "3.12.1"
  }
 },
 "nbformat": 4,
 "nbformat_minor": 2
}
