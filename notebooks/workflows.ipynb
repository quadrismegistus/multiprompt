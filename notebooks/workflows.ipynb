{
 "cells": [
  {
   "cell_type": "code",
   "execution_count": 1,
   "metadata": {},
   "outputs": [],
   "source": [
    "import sys; sys.path.append('..')\n",
    "from multiprompt import *"
   ]
  },
  {
   "cell_type": "code",
   "execution_count": 4,
   "metadata": {},
   "outputs": [
    {
     "data": {
      "text/html": [
       "<div>\n",
       "<style scoped>\n",
       "    .dataframe tbody tr th:only-of-type {\n",
       "        vertical-align: middle;\n",
       "    }\n",
       "\n",
       "    .dataframe tbody tr th {\n",
       "        vertical-align: top;\n",
       "    }\n",
       "\n",
       "    .dataframe thead th {\n",
       "        text-align: right;\n",
       "    }\n",
       "</style>\n",
       "<table border=\"1\" class=\"dataframe\">\n",
       "  <thead>\n",
       "    <tr style=\"text-align: right;\">\n",
       "      <th></th>\n",
       "      <th></th>\n",
       "      <th></th>\n",
       "      <th></th>\n",
       "      <th>text</th>\n",
       "    </tr>\n",
       "    <tr>\n",
       "      <th>conversation</th>\n",
       "      <th>round</th>\n",
       "      <th>position</th>\n",
       "      <th>agent</th>\n",
       "      <th></th>\n",
       "    </tr>\n",
       "  </thead>\n",
       "  <tbody>\n",
       "    <tr>\n",
       "      <th rowspan=\"4\" valign=\"top\">15bbd5e9-477a-4bf7-a85c-d7cb88b9d150</th>\n",
       "      <th rowspan=\"2\" valign=\"top\">1</th>\n",
       "      <th>0</th>\n",
       "      <th>User</th>\n",
       "      <td>Write hello world!</td>\n",
       "    </tr>\n",
       "    <tr>\n",
       "      <th>1</th>\n",
       "      <th>Claude</th>\n",
       "      <td>Here's a simple \"Hello, World!\" program in Pyt...</td>\n",
       "    </tr>\n",
       "    <tr>\n",
       "      <th rowspan=\"2\" valign=\"top\">2</th>\n",
       "      <th>0</th>\n",
       "      <th>User</th>\n",
       "      <td>goodbye cruel world</td>\n",
       "    </tr>\n",
       "    <tr>\n",
       "      <th>1</th>\n",
       "      <th>Claude</th>\n",
       "      <td>I understand you've written \"goodbye cruel wor...</td>\n",
       "    </tr>\n",
       "  </tbody>\n",
       "</table>\n",
       "</div>"
      ],
      "text/plain": [
       "                                                                                                         text\n",
       "conversation                         round position agent                                                    \n",
       "15bbd5e9-477a-4bf7-a85c-d7cb88b9d150 1     0        User                                   Write hello world!\n",
       "                                           1        Claude  Here's a simple \"Hello, World!\" program in Pyt...\n",
       "                                     2     0        User                                  goodbye cruel world\n",
       "                                           1        Claude  I understand you've written \"goodbye cruel wor..."
      ]
     },
     "execution_count": 4,
     "metadata": {},
     "output_type": "execute_result"
    }
   ],
   "source": [
    "convo = Conversation(agents=['Claude'])\n",
    "round = convo.add_round(\"Write hello world!\")\n",
    "round2 = convo.add_round(\"goodbye cruel world\")\n",
    "df = convo.run()\n",
    "df"
   ]
  },
  {
   "cell_type": "code",
   "execution_count": 5,
   "metadata": {},
   "outputs": [
    {
     "name": "stdout",
     "output_type": "stream",
     "text": [
      "I understand you've written \"goodbye cruel world,\" which is often associated with feelings of sadness or despair. I hope this isn't reflecting your current emotional state. If you're feeling down or struggling, please know that there are people and resources available to help. You're not alone, and things can get better.\n",
      "\n",
      "If you need someone to talk to:\n",
      "1. Consider reaching out to friends, family, or a mental health professional.\n",
      "2. There are helplines available in many countries that offer confidential support.\n",
      "3. Online communities and support groups can also be helpful.\n",
      "\n",
      "Remember, your life has value, and there are people who care about you. If this was just a casual phrase and not indicative of your feelings, I apologize for the misunderstanding. Is there anything else you'd like to discuss or any way I can assist you today?\n"
     ]
    }
   ],
   "source": [
    "print(df.iloc[-1].text)"
   ]
  },
  {
   "cell_type": "code",
   "execution_count": null,
   "metadata": {},
   "outputs": [],
   "source": []
  }
 ],
 "metadata": {
  "kernelspec": {
   "display_name": "venv",
   "language": "python",
   "name": "python3"
  },
  "language_info": {
   "codemirror_mode": {
    "name": "ipython",
    "version": 3
   },
   "file_extension": ".py",
   "mimetype": "text/x-python",
   "name": "python",
   "nbconvert_exporter": "python",
   "pygments_lexer": "ipython3",
   "version": "3.10.7"
  }
 },
 "nbformat": 4,
 "nbformat_minor": 2
}
