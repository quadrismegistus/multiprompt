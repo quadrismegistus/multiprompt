{
 "cells": [
  {
   "cell_type": "code",
   "execution_count": 1,
   "metadata": {},
   "outputs": [],
   "source": [
    "import sys; sys.path.append('..')\n",
    "from multiprompt import *\n",
    "from multiprompt.repo2llm import *"
   ]
  },
  {
   "cell_type": "code",
   "execution_count": 2,
   "metadata": {},
   "outputs": [
    {
     "name": "stderr",
     "output_type": "stream",
     "text": [
      "Sure"
     ]
    },
    {
     "name": "stderr",
     "output_type": "stream",
     "text": [
      ", here's a joke for you:\n",
      "\n",
      "Why don't scientists trust atoms?\n",
      "\n",
      "Because they make up everything!That's a classic science joke! The humor comes from the double meaning of \"make up\" - atoms literally constitute all matter, and \"make up\" can also mean to fabricate or lie."
     ]
    },
    {
     "data": {
      "text/html": [
       "<div>\n",
       "<style scoped>\n",
       "    .dataframe tbody tr th:only-of-type {\n",
       "        vertical-align: middle;\n",
       "    }\n",
       "\n",
       "    .dataframe tbody tr th {\n",
       "        vertical-align: top;\n",
       "    }\n",
       "\n",
       "    .dataframe thead th {\n",
       "        text-align: right;\n",
       "    }\n",
       "</style>\n",
       "<table border=\"1\" class=\"dataframe\">\n",
       "  <thead>\n",
       "    <tr style=\"text-align: right;\">\n",
       "      <th></th>\n",
       "      <th></th>\n",
       "      <th></th>\n",
       "      <th></th>\n",
       "      <th>text</th>\n",
       "    </tr>\n",
       "    <tr>\n",
       "      <th>conversation</th>\n",
       "      <th>round</th>\n",
       "      <th>position</th>\n",
       "      <th>agent</th>\n",
       "      <th></th>\n",
       "    </tr>\n",
       "  </thead>\n",
       "  <tbody>\n",
       "    <tr>\n",
       "      <th rowspan=\"3\" valign=\"top\">0e40bf0c-59aa-4f39-b5e7-8603a9533c03</th>\n",
       "      <th rowspan=\"3\" valign=\"top\">1</th>\n",
       "      <th>0</th>\n",
       "      <th>User</th>\n",
       "      <td>Tell me a joke. Judge any jokes already told.</td>\n",
       "    </tr>\n",
       "    <tr>\n",
       "      <th>1</th>\n",
       "      <th>GPT-4o</th>\n",
       "      <td>Sure, here's a joke for you:\\n\\nWhy don't scie...</td>\n",
       "    </tr>\n",
       "    <tr>\n",
       "      <th>2</th>\n",
       "      <th>Claude-3.5-Sonnet</th>\n",
       "      <td>That's a classic science joke! The humor comes...</td>\n",
       "    </tr>\n",
       "  </tbody>\n",
       "</table>\n",
       "</div>"
      ],
      "text/plain": [
       "                                                                                                                    text\n",
       "conversation                         round position agent                                                               \n",
       "0e40bf0c-59aa-4f39-b5e7-8603a9533c03 1     0        User                   Tell me a joke. Judge any jokes already told.\n",
       "                                           1        GPT-4o             Sure, here's a joke for you:\\n\\nWhy don't scie...\n",
       "                                           2        Claude-3.5-Sonnet  That's a classic science joke! The humor comes..."
      ]
     },
     "execution_count": 2,
     "metadata": {},
     "output_type": "execute_result"
    }
   ],
   "source": [
    "convo = Conversation(agents=['GPT-4o', 'Claude-3.5-Sonnet'])\n",
    "round = convo.add_round(\"Tell me a joke. Judge any jokes already told.\")\n",
    "convo.run()"
   ]
  },
  {
   "cell_type": "code",
   "execution_count": 5,
   "metadata": {},
   "outputs": [
    {
     "name": "stdout",
     "output_type": "stream",
     "text": [
      "|                                                                     | text                                                                                                                                                                          |\n",
      "|:--------------------------------------------------------------------|:------------------------------------------------------------------------------------------------------------------------------------------------------------------------------|\n",
      "| ('0e40bf0c-59aa-4f39-b5e7-8603a9533c03', 1, 0, 'User')              | Tell me a joke. Judge any jokes already told.                                                                                                                                 |\n",
      "| ('0e40bf0c-59aa-4f39-b5e7-8603a9533c03', 1, 1, 'GPT-4o')            | Sure, here's a joke for you:                                                                                                                                                  |\n",
      "|                                                                     |                                                                                                                                                                               |\n",
      "|                                                                     | Why don't scientists trust atoms?                                                                                                                                             |\n",
      "|                                                                     |                                                                                                                                                                               |\n",
      "|                                                                     | Because they make up everything!                                                                                                                                              |\n",
      "| ('0e40bf0c-59aa-4f39-b5e7-8603a9533c03', 1, 2, 'Claude-3.5-Sonnet') | That's a classic science joke! The humor comes from the double meaning of \"make up\" - atoms literally constitute all matter, and \"make up\" can also mean to fabricate or lie. |\n"
     ]
    }
   ],
   "source": [
    "print(convo.run().to_markdown())"
   ]
  },
  {
   "cell_type": "markdown",
   "metadata": {},
   "source": []
  },
  {
   "cell_type": "code",
   "execution_count": 23,
   "metadata": {},
   "outputs": [],
   "source": [
    "import bs4\n",
    "\n",
    "# agent=Agent('Redacter', algorithm_func=redact)\n",
    "class Redacter(AlgorithmicAgent):\n",
    "    def run(self, messages):\n",
    "        txt = messages.get_last_message_txt()\n",
    "        dom = bs4.BeautifulSoup(txt)\n",
    "        # Replace all XML tags with their ID attribute\n",
    "        for tag in dom.find_all():\n",
    "            if tag.has_attr('id'):\n",
    "                tag.replace_with(tag['id'])\n",
    "        \n",
    "        # Convert the modified DOM back to text\n",
    "        redacted_text = dom.text\n",
    "        return redacted_text"
   ]
  },
  {
   "cell_type": "code",
   "execution_count": 24,
   "metadata": {},
   "outputs": [],
   "source": [
    "txt=\"\"\"President Biden, 81, abandoned his bid for re-election and threw the 2024 presidential contest into chaos on Sunday, caving to relentless pressure from his closest allies to drop out of the race amid deep concerns that he is too old and frail to defeat former President Donald J. Trump. After calling Vice President Kamala Harris an “extraordinary partner,” he endorsed her to take his place atop the ticket.\n",
    "\n",
    "“It has been the greatest honor of my life to serve as your president,” he wrote on social media. “And while it has been my intention to seek re-election, I believe it is in the best interest of my party and the country for me to stand down and focus entirely on fulfilling my duties as president for the remainder of my term.”\"\"\""
   ]
  },
  {
   "cell_type": "code",
   "execution_count": 27,
   "metadata": {},
   "outputs": [
    {
     "name": "stderr",
     "output_type": "stream",
     "text": [
      "PER1, 81, abandoned his bid for re-election and threw the 2024 presidential contest into chaos on Sunday, caving to relentless pressure from his closest allies to drop out of the race amid deep concerns that he is too old and frail to defeat PER2. After calling PER3 an “extraordinary partner,” he endorsed her to take his place atop the ticket.\n"
     ]
    },
    {
     "name": "stdout",
     "output_type": "stream",
     "text": [
      "PER1, 81, abandoned his bid for re-election and threw the 2024 presidential contest into chaos on Sunday, caving to relentless pressure from his closest allies to drop out of the race amid deep concerns that he is too old and frail to defeat PER2. After calling PER3 an “extraordinary partner,” he endorsed her to take his place atop the ticket.\n",
      "\n"
     ]
    }
   ],
   "source": [
    "print(Redacter().generate(\"\"\"<president id=\"PER1\" name=\"Joe Biden\" gender=\"Male\" nationality=\"American\" title=\"President of the United States\" desc=\"The 46th president of the United States, serving from 2021 to the present\">\n",
    "President Biden\n",
    "</president>, 81, abandoned his bid for re-election and threw the 2024 presidential contest into chaos on Sunday, caving to relentless pressure from his closest allies to drop out of the race amid deep concerns that he is too old and frail to defeat <former_president id=\"PER2\" name=\"Donald J. Trump\" gender=\"Male\" nationality=\"American\" title=\"Former President of the United States\" desc=\"The 45th president of the United States, served from 2017 to 2021\">\n",
    "former President Donald J. Trump</former_president>. After calling <vice_president id=\"PER3\" name=\"Kamala Harris\" gender=\"Female\" nationality=\"American\" title=\"Vice President of the United States\" desc=\"The 49th vice president of the United States, serving from 2021 to the present\">\n",
    "Vice President Kamala Harris</vice_president> an “extraordinary partner,” he endorsed her to take his place atop the ticket.\n",
    "\"\"\"))"
   ]
  },
  {
   "cell_type": "code",
   "execution_count": 28,
   "metadata": {},
   "outputs": [],
   "source": [
    "agent1 = Agent('xml_researcher', model='gpt-4o-mini')\n",
    "agent2 = Redacter()"
   ]
  },
  {
   "cell_type": "code",
   "execution_count": 29,
   "metadata": {},
   "outputs": [
    {
     "data": {
      "text/plain": [
       "'gpt-4o'"
      ]
     },
     "execution_count": 29,
     "metadata": {},
     "output_type": "execute_result"
    }
   ],
   "source": [
    "agent1.llm.model"
   ]
  },
  {
   "cell_type": "code",
   "execution_count": 16,
   "metadata": {},
   "outputs": [
    {
     "name": "stderr",
     "output_type": "stream",
     "text": [
      "## NEWS ARTICLE:  \n",
      "\n",
      "<president id=\"PER1\" name=\"Joe Biden\" gender=\"Male\" nationality=\"American\" title=\"President of the United States\" desc=\"The 46th president of the United States, serving from 2021 to the present\">\n",
      "President Biden\n",
      "</president>, 81, abandoned his bid for re-election and threw the 2024 presidential contest into chaos on Sunday, caving to relentless pressure from his closest allies to drop out of the race amid deep concerns that he is too old and frail to defeat <former_president id=\"PER2\" name=\"Donald J. Trump\" gender=\"Male\" nationality=\"American\" title=\"Former President of the United States\" desc=\"The 45th president of the United States, served from 2017 to 2021\">\n",
      "former President Donald J. Trump</former_president>. After calling <vice_president id=\"PER3\" name=\"Kamala Harris\" gender=\"Female\" nationality=\"American\" title=\"Vice President of the United States\" desc=\"The 49th vice president of the United States, serving from 2021 to the present\">\n",
      "Vice President Kamala Harris</vice_president> an “extraordinary partner,” he endorsed her to take his place atop the ticket.\n",
      "\n",
      "“It has been the greatest honor of my life to serve as your president,” he wrote on social media. “And while it has been my intention to seek re-election, I believe it is in the best interest of my party and the country for me to stand down and focus entirely on fulfilling my duties as president for the remainder of my term.”\n",
      "// R------- to U--- by \"xml_researcher\" A-\n",
      "\n",
      "## N--- A------:  \n",
      "\n",
      "<president id=\"P---\" name=\"J-- B----\" gender=\"M---\" nationality=\"A-------\" title=\"P-------- of the U----- S-----\" desc=\"T-- 46th president of the U----- S-----, serving from 2021 to the present\">\n",
      "P-------- B----\n",
      "</president>, 81, abandoned his bid for re-election and threw the 2024 presidential contest into chaos on S-----, caving to relentless pressure from his closest allies to drop out of the race amid deep concerns that he is too old and frail to defeat <former_president id=\"P---\" name=\"D----- J. T----\" gender=\"M---\" nationality=\"A-------\" title=\"F----- P-------- of the U----- S-----\" desc=\"T-- 45th president of the U----- S-----, served from 2017 to 2021\">\n",
      "former P-------- D----- J. T----</former_president>. A---- calling <vice_president id=\"P---\" name=\"K----- H-----\" gender=\"F-----\" nationality=\"A-------\" title=\"V--- P-------- of the U----- S-----\" desc=\"T-- 49th vice president of the U----- S-----, serving from 2021 to the present\">\n",
      "V--- P-------- K----- H-----</vice_president> an extraordinary partner, he endorsed her to take his place atop the ticket.\n",
      "\n",
      "I- has been the greatest honor of my life to serve as your president, he wrote on social media. A-- while it has been my intention to seek re-election, I believe it is in the best interest of my party and the country for me to stand down and focus entirely on fulfilling my duties as president for the remainder of my term.\n",
      "\n"
     ]
    },
    {
     "data": {
      "text/html": [
       "<div>\n",
       "<style scoped>\n",
       "    .dataframe tbody tr th:only-of-type {\n",
       "        vertical-align: middle;\n",
       "    }\n",
       "\n",
       "    .dataframe tbody tr th {\n",
       "        vertical-align: top;\n",
       "    }\n",
       "\n",
       "    .dataframe thead th {\n",
       "        text-align: right;\n",
       "    }\n",
       "</style>\n",
       "<table border=\"1\" class=\"dataframe\">\n",
       "  <thead>\n",
       "    <tr style=\"text-align: right;\">\n",
       "      <th></th>\n",
       "      <th></th>\n",
       "      <th></th>\n",
       "      <th></th>\n",
       "      <th>text</th>\n",
       "    </tr>\n",
       "    <tr>\n",
       "      <th>conversation</th>\n",
       "      <th>round</th>\n",
       "      <th>position</th>\n",
       "      <th>agent</th>\n",
       "      <th></th>\n",
       "    </tr>\n",
       "  </thead>\n",
       "  <tbody>\n",
       "    <tr>\n",
       "      <th rowspan=\"3\" valign=\"top\">9c95ba3a-6834-4532-b890-ac5e8d0cfe0d</th>\n",
       "      <th rowspan=\"3\" valign=\"top\">1</th>\n",
       "      <th>0</th>\n",
       "      <th>User</th>\n",
       "      <td>President Biden, 81, abandoned his bid for re-...</td>\n",
       "    </tr>\n",
       "    <tr>\n",
       "      <th>1</th>\n",
       "      <th>xml_researcher</th>\n",
       "      <td>## NEWS ARTICLE:  \\n\\n&lt;president id=\"PER1\" nam...</td>\n",
       "    </tr>\n",
       "    <tr>\n",
       "      <th>2</th>\n",
       "      <th>Redacter</th>\n",
       "      <td>// R------- to U--- by \"xml_researcher\" A-\\n\\n...</td>\n",
       "    </tr>\n",
       "  </tbody>\n",
       "</table>\n",
       "</div>"
      ],
      "text/plain": [
       "                                                                                                                 text\n",
       "conversation                         round position agent                                                            \n",
       "9c95ba3a-6834-4532-b890-ac5e8d0cfe0d 1     0        User            President Biden, 81, abandoned his bid for re-...\n",
       "                                           1        xml_researcher  ## NEWS ARTICLE:  \\n\\n<president id=\"PER1\" nam...\n",
       "                                           2        Redacter        // R------- to U--- by \"xml_researcher\" A-\\n\\n..."
      ]
     },
     "execution_count": 16,
     "metadata": {},
     "output_type": "execute_result"
    }
   ],
   "source": [
    "\n",
    "convo = Conversation(agents=[agent1,agent2])\n",
    "cround = convo.add_round(txt)\n",
    "convo.run()"
   ]
  },
  {
   "cell_type": "code",
   "execution_count": 8,
   "metadata": {},
   "outputs": [
    {
     "data": {
      "text/html": [
       "<div>\n",
       "<style scoped>\n",
       "    .dataframe tbody tr th:only-of-type {\n",
       "        vertical-align: middle;\n",
       "    }\n",
       "\n",
       "    .dataframe tbody tr th {\n",
       "        vertical-align: top;\n",
       "    }\n",
       "\n",
       "    .dataframe thead th {\n",
       "        text-align: right;\n",
       "    }\n",
       "</style>\n",
       "<table border=\"1\" class=\"dataframe\">\n",
       "  <thead>\n",
       "    <tr style=\"text-align: right;\">\n",
       "      <th></th>\n",
       "    </tr>\n",
       "  </thead>\n",
       "  <tbody>\n",
       "  </tbody>\n",
       "</table>\n",
       "</div>"
      ],
      "text/plain": [
       "Empty DataFrame\n",
       "Columns: []\n",
       "Index: []"
      ]
     },
     "execution_count": 8,
     "metadata": {},
     "output_type": "execute_result"
    }
   ],
   "source": [
    "convo.run()"
   ]
  },
  {
   "cell_type": "code",
   "execution_count": 5,
   "metadata": {},
   "outputs": [],
   "source": [
    "# agent1 = Agent('GPT-4o')\n",
    "# agent2 = Agent('GPT-3.5')"
   ]
  },
  {
   "cell_type": "code",
   "execution_count": null,
   "metadata": {},
   "outputs": [],
   "source": [
    "agent2.format_prompt('Hello')"
   ]
  },
  {
   "cell_type": "code",
   "execution_count": null,
   "metadata": {},
   "outputs": [],
   "source": [
    "agent1.generate(\"Hello world?\")"
   ]
  },
  {
   "cell_type": "code",
   "execution_count": null,
   "metadata": {},
   "outputs": [],
   "source": [
    "agent2.generate(\"Hello world?\")"
   ]
  },
  {
   "cell_type": "code",
   "execution_count": null,
   "metadata": {},
   "outputs": [],
   "source": []
  }
 ],
 "metadata": {
  "kernelspec": {
   "display_name": "venv",
   "language": "python",
   "name": "python3"
  },
  "language_info": {
   "codemirror_mode": {
    "name": "ipython",
    "version": 3
   },
   "file_extension": ".py",
   "mimetype": "text/x-python",
   "name": "python",
   "nbconvert_exporter": "python",
   "pygments_lexer": "ipython3",
   "version": "3.10.7"
  }
 },
 "nbformat": 4,
 "nbformat_minor": 2
}
