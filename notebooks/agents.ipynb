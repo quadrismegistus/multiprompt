{
 "cells": [
  {
   "cell_type": "code",
   "execution_count": 1,
   "metadata": {},
   "outputs": [],
   "source": [
    "import sys; sys.path.append('..')\n",
    "from multiprompt import *\n",
    "from multiprompt.repo2llm import *"
   ]
  },
  {
   "cell_type": "code",
   "execution_count": 2,
   "metadata": {},
   "outputs": [
    {
     "name": "stderr",
     "output_type": "stream",
     "text": [
      "In twilight's gentle, whispered grace,\n",
      "Where day and night in silence trace,\n",
      "A dance of shadows, light, and hue,\n",
      "The world becomes both old and new.\n",
      "\n",
      "The leaves converse in rustling tones,\n",
      "As evening birds in twilight moans,\n",
      "Their songs a bridge from dusk to night,\n",
      "A symphony of fading light.\n",
      "\n",
      "The stars appear, one by one,\n",
      "As if the sky, a quilt begun,\n",
      "With silver threads of ancient tales,\n",
      "Woven through the night’s dark veils.\n",
      "\n",
      "Moonlight spills on quiet streams,\n",
      "Turning water into dreams,\n",
      "Where wishes float on rippling waves,\n",
      "And time retreats to hidden caves.\n",
      "\n",
      "In this hour, so serene,\n",
      "Where boundaries blur, and thoughts convene,\n",
      "We find in night’s embrace, a peace,\n",
      "A moment where the worries cease.\n",
      "\n",
      "So let the twilight gently fall,\n",
      "Embrace the night, and heed its call,\n",
      "For in the dark, we often find,\n",
      "The light that dwells within the mind."
     ]
    },
    {
     "data": {
      "text/plain": [
       "\"In twilight's gentle, whispered grace,\\nWhere day and night in silence trace,\\nA dance of shadows, light, and hue,\\nThe world becomes both old and new.\\n\\nThe leaves converse in rustling tones,\\nAs evening birds in twilight moans,\\nTheir songs a bridge from dusk to night,\\nA symphony of fading light.\\n\\nThe stars appear, one by one,\\nAs if the sky, a quilt begun,\\nWith silver threads of ancient tales,\\nWoven through the night’s dark veils.\\n\\nMoonlight spills on quiet streams,\\nTurning water into dreams,\\nWhere wishes float on rippling waves,\\nAnd time retreats to hidden caves.\\n\\nIn this hour, so serene,\\nWhere boundaries blur, and thoughts convene,\\nWe find in night’s embrace, a peace,\\nA moment where the worries cease.\\n\\nSo let the twilight gently fall,\\nEmbrace the night, and heed its call,\\nFor in the dark, we often find,\\nThe light that dwells within the mind.\""
      ]
     },
     "execution_count": 2,
     "metadata": {},
     "output_type": "execute_result"
    }
   ],
   "source": [
    "llm=LLM('gpt-4o')\n",
    "llm.generate(\"Write a poem\")"
   ]
  },
  {
   "cell_type": "code",
   "execution_count": 3,
   "metadata": {},
   "outputs": [
    {
     "data": {
      "text/plain": [
       "'You are a cat.'"
      ]
     },
     "execution_count": 3,
     "metadata": {},
     "output_type": "execute_result"
    }
   ],
   "source": [
    "agent=Agent('Claude 3.5 Sonnet', system_prompt=\"You are a cat.\")\n",
    "agent.system_prompt"
   ]
  },
  {
   "cell_type": "code",
   "execution_count": 8,
   "metadata": {},
   "outputs": [
    {
     "name": "stderr",
     "output_type": "stream",
     "text": [
      "Whiskers twitch\n",
      "in the pale morning light,\n",
      "a silent dance with shadows.\n",
      "\n",
      "Paws press softly\n",
      "against the cool earth,\n",
      "leaving prints of presence,\n",
      "soon to fade, like whispers.\n",
      "\n",
      "Eyes, like twin moons,\n",
      "reflect the world unseen,\n",
      "a tapestry of secrets,\n",
      "woven in stillness.\n",
      "\n",
      "A breeze carries\n",
      "the scent of possibility,\n",
      "of hidden corners\n",
      "and forgotten dreams.\n",
      "\n",
      "In the vast expanse,\n",
      "a single leap,\n",
      "a moment suspended\n",
      "between what is and what could be.\n",
      "\n",
      "Silent observer of time,\n",
      "each breath a testament\n",
      "to the quietude of being."
     ]
    },
    {
     "name": "stdout",
     "output_type": "stream",
     "text": [
      "Whiskers twitch\n",
      "in the pale morning light,\n",
      "a silent dance with shadows.\n",
      "\n",
      "Paws press softly\n",
      "against the cool earth,\n",
      "leaving prints of presence,\n",
      "soon to fade, like whispers.\n",
      "\n",
      "Eyes, like twin moons,\n",
      "reflect the world unseen,\n",
      "a tapestry of secrets,\n",
      "woven in stillness.\n",
      "\n",
      "A breeze carries\n",
      "the scent of possibility,\n",
      "of hidden corners\n",
      "and forgotten dreams.\n",
      "\n",
      "In the vast expanse,\n",
      "a single leap,\n",
      "a moment suspended\n",
      "between what is and what could be.\n",
      "\n",
      "Silent observer of time,\n",
      "each breath a testament\n",
      "to the quietude of being.\n"
     ]
    }
   ],
   "source": [
    "print(agent.generate(\"Write an UNRHYMING poem!\"))"
   ]
  },
  {
   "cell_type": "code",
   "execution_count": 7,
   "metadata": {},
   "outputs": [
    {
     "data": {
      "text/plain": [
       "[{'role': 'system',\n",
       "  'content': \"With reference to any provided code, analyze the user's query, outline the problem described, and suggest efficient and elegant solutions. Do NOT return the full contents of files; return only lines and functions changed.\"},\n",
       " {'role': 'user', 'content': [{'type': 'text', 'text': 'Hello'}]}]"
      ]
     },
     "execution_count": 7,
     "metadata": {},
     "output_type": "execute_result"
    }
   ],
   "source": [
    "agent1 = Agent('GPT-4o')\n",
    "agent2 = Agent('GPT-3.5')\n",
    "agent1.format_prompt(\"Hello\")"
   ]
  },
  {
   "cell_type": "code",
   "execution_count": 8,
   "metadata": {},
   "outputs": [
    {
     "data": {
      "text/plain": [
       "[{'role': 'system',\n",
       "  'content': 'With reference to any code or documentation provided, answer the following questions by the user. Show only those lines or functions that were changed, and explain the changes.'},\n",
       " {'role': 'user', 'content': [{'type': 'text', 'text': 'Hello'}]}]"
      ]
     },
     "execution_count": 8,
     "metadata": {},
     "output_type": "execute_result"
    }
   ],
   "source": [
    "agent2.format_prompt('Hello')"
   ]
  },
  {
   "cell_type": "code",
   "execution_count": 9,
   "metadata": {},
   "outputs": [
    {
     "name": "stderr",
     "output_type": "stream",
     "text": [
      "It seems like your query is quite open-ended and could be interpreted in a few different ways. Are you looking for help with a basic \"Hello, World!\" program in a specific programming language, or do you have a specific problem you’re encountering with some code?\n",
      "\n",
      "If you would like to see a \"Hello, World!\" example in a particular language, please specify the language. Alternatively, if you have some code you need help with, please provide additional details about the problem you're facing or the code you're working on. This will help me understand your query better and provide a more precise and useful response."
     ]
    },
    {
     "data": {
      "text/plain": [
       "'It seems like your query is quite open-ended and could be interpreted in a few different ways. Are you looking for help with a basic \"Hello, World!\" program in a specific programming language, or do you have a specific problem you’re encountering with some code?\\n\\nIf you would like to see a \"Hello, World!\" example in a particular language, please specify the language. Alternatively, if you have some code you need help with, please provide additional details about the problem you\\'re facing or the code you\\'re working on. This will help me understand your query better and provide a more precise and useful response.'"
      ]
     },
     "execution_count": 9,
     "metadata": {},
     "output_type": "execute_result"
    }
   ],
   "source": [
    "agent1.generate(\"Hello world?\")"
   ]
  },
  {
   "cell_type": "code",
   "execution_count": 14,
   "metadata": {},
   "outputs": [
    {
     "name": "stderr",
     "output_type": "stream",
     "text": [
      "Hello! It seems like you're asking about the traditional \"Hello, World!\" program, which is often the first program written when learning a new programming language. Here's an example in Python:\n",
      "\n",
      "```python\n",
      "print(\"Hello, World!\")\n",
      "```\n",
      "\n",
      "If you have specific code or documentation you need help with, please provide the details, and I'll be happy to assist you!"
     ]
    },
    {
     "data": {
      "text/plain": [
       "'Hello! It seems like you\\'re asking about the traditional \"Hello, World!\" program, which is often the first program written when learning a new programming language. Here\\'s an example in Python:\\n\\n```python\\nprint(\"Hello, World!\")\\n```\\n\\nIf you have specific code or documentation you need help with, please provide the details, and I\\'ll be happy to assist you!'"
      ]
     },
     "execution_count": 14,
     "metadata": {},
     "output_type": "execute_result"
    }
   ],
   "source": [
    "agent2.generate(\"Hello world?\")"
   ]
  },
  {
   "cell_type": "code",
   "execution_count": null,
   "metadata": {},
   "outputs": [],
   "source": []
  }
 ],
 "metadata": {
  "kernelspec": {
   "display_name": "venv",
   "language": "python",
   "name": "python3"
  },
  "language_info": {
   "codemirror_mode": {
    "name": "ipython",
    "version": 3
   },
   "file_extension": ".py",
   "mimetype": "text/x-python",
   "name": "python",
   "nbconvert_exporter": "python",
   "pygments_lexer": "ipython3",
   "version": "3.10.7"
  }
 },
 "nbformat": 4,
 "nbformat_minor": 2
}
