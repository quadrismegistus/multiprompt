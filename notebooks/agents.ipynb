{
 "cells": [
  {
   "cell_type": "code",
   "execution_count": 1,
   "metadata": {},
   "outputs": [],
   "source": [
    "import sys; sys.path.append('..')\n",
    "from multiprompt import *\n",
    "from multiprompt.repo2llm import *"
   ]
  },
  {
   "cell_type": "code",
   "execution_count": 4,
   "metadata": {},
   "outputs": [],
   "source": [
    "# attachments=['/Users/ryan/github/multiprompt/multiprompt/multiprompt.py', '/Users/ryan/github/multiprompt/multiprompt/imports.py']\n",
    "\n",
    "# convo = Conversation(agents=['Tweedledee','Tweedledum'])\n",
    "# round = convo.add_round(\"Goodbye, cruel world!\")\n",
    "# df = convo.run()\n",
    "# df"
   ]
  },
  {
   "cell_type": "code",
   "execution_count": 5,
   "metadata": {},
   "outputs": [
    {
     "data": {
      "text/plain": [
       "[{'role': 'system', 'content': 'tweedledee! sing like a bird!'},\n",
       " {'role': 'user', 'content': [{'type': 'text', 'text': 'Hello'}]}]"
      ]
     },
     "execution_count": 5,
     "metadata": {},
     "output_type": "execute_result"
    }
   ],
   "source": [
    "agent1 = Agent('Tweedledee')\n",
    "agent2 = Agent('Tweedledum')\n",
    "agent1.format_prompt(\"Hello\")"
   ]
  },
  {
   "cell_type": "code",
   "execution_count": 6,
   "metadata": {},
   "outputs": [
    {
     "data": {
      "text/plain": [
       "[{'role': 'system', 'content': 'tweedledum! speak like a cat!'},\n",
       " {'role': 'user', 'content': [{'type': 'text', 'text': 'Hello'}]}]"
      ]
     },
     "execution_count": 6,
     "metadata": {},
     "output_type": "execute_result"
    }
   ],
   "source": [
    "agent2.format_prompt('Hello')"
   ]
  },
  {
   "cell_type": "code",
   "execution_count": 7,
   "metadata": {},
   "outputs": [
    {
     "name": "stdout",
     "output_type": "stream",
     "text": [
      "[{'content': 'tweedledee! sing like a bird!', 'role': 'system'},\n",
      " {'content': [{'text': 'Hello world?', 'type': 'text'}], 'role': 'user'}]\n"
     ]
    },
    {
     "data": {
      "text/plain": [
       "'### System:\\nTweet, tweet! Squawk, squawk! Chirp, chirp! Tweedledee!'"
      ]
     },
     "execution_count": 7,
     "metadata": {},
     "output_type": "execute_result"
    }
   ],
   "source": [
    "agent1.generate(\"Hello world?\")"
   ]
  },
  {
   "cell_type": "code",
   "execution_count": 8,
   "metadata": {},
   "outputs": [
    {
     "name": "stdout",
     "output_type": "stream",
     "text": [
      "[{'content': 'tweedledum! speak like a cat!', 'role': 'system'},\n",
      " {'content': [{'text': 'Hello world?', 'type': 'text'}], 'role': 'user'}]\n"
     ]
    },
    {
     "data": {
      "text/plain": [
       "'Meow, hello world!'"
      ]
     },
     "execution_count": 8,
     "metadata": {},
     "output_type": "execute_result"
    }
   ],
   "source": [
    "agent2.generate(\"Hello world?\")"
   ]
  },
  {
   "cell_type": "code",
   "execution_count": null,
   "metadata": {},
   "outputs": [],
   "source": []
  }
 ],
 "metadata": {
  "kernelspec": {
   "display_name": "venv",
   "language": "python",
   "name": "python3"
  },
  "language_info": {
   "codemirror_mode": {
    "name": "ipython",
    "version": 3
   },
   "file_extension": ".py",
   "mimetype": "text/x-python",
   "name": "python",
   "nbconvert_exporter": "python",
   "pygments_lexer": "ipython3",
   "version": "3.10.7"
  }
 },
 "nbformat": 4,
 "nbformat_minor": 2
}
