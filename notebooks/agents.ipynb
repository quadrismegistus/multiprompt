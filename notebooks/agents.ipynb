{
 "cells": [
  {
   "cell_type": "code",
   "execution_count": 1,
   "metadata": {},
   "outputs": [],
   "source": [
    "import sys; sys.path.append('..')\n",
    "from multiprompt import *\n",
    "from multiprompt.repo2llm import *"
   ]
  },
  {
   "cell_type": "code",
   "execution_count": 2,
   "metadata": {},
   "outputs": [],
   "source": [
    "# # attachments=['/Users/ryan/github/multiprompt/multiprompt/multiprompt.py', '/Users/ryan/github/multiprompt/multiprompt/imports.py']\n",
    "\n",
    "# convo = Conversation(agents=['Tweedledee','Tweedledum'])\n",
    "# round = convo.add_round(\"Goodbye, cruel world!\")\n",
    "# df = convo.run()\n",
    "# df"
   ]
  },
  {
   "cell_type": "code",
   "execution_count": null,
   "metadata": {},
   "outputs": [],
   "source": []
  },
  {
   "cell_type": "code",
   "execution_count": 15,
   "metadata": {},
   "outputs": [
    {
     "name": "stderr",
     "output_type": "stream",
     "text": [
      "In the hush of dawn’s first light,\n",
      "Where dreams dissolve, taking flight,\n",
      "Whispers of the morning breeze\n",
      "Dance through the awakening trees.\n",
      "\n",
      "Golden rays kiss the dew,\n",
      "Turning grass to a sparkling hue,\n",
      "Nature’s symphony softly plays,\n",
      "Welcoming the birth of day.\n",
      "\n",
      "Birds with songs so pure and bright,\n",
      "Chase away the remnants of night,\n",
      "Their melodies, a gentle plea,\n",
      "To rise and greet the day with glee.\n",
      "\n",
      "A river’s murmur, a tranquil sound,\n",
      "Flows through valleys, winding around,\n",
      "Reflecting skies of endless blue,\n",
      "A canvas painted just for you.\n",
      "\n",
      "Mountains stand with timeless grace,\n",
      "Guardians of this sacred place,\n",
      "Their peaks, a touch of heaven’s door,\n",
      "Whispering secrets of ancient lore.\n",
      "\n",
      "In this moment, hearts find peace,\n",
      "Worries of the world release,\n",
      "Nature’s embrace, a tender hold,\n",
      "A timeless story, forever told.\n",
      "\n",
      "So let your spirit soar and glide,\n",
      "With the morning as your guide,\n",
      "For in each dawn, a chance to see,\n",
      "The boundless beauty of being free."
     ]
    },
    {
     "data": {
      "text/plain": [
       "'In the hush of dawn’s first light,\\nWhere dreams dissolve, taking flight,\\nWhispers of the morning breeze\\nDance through the awakening trees.\\n\\nGolden rays kiss the dew,\\nTurning grass to a sparkling hue,\\nNature’s symphony softly plays,\\nWelcoming the birth of day.\\n\\nBirds with songs so pure and bright,\\nChase away the remnants of night,\\nTheir melodies, a gentle plea,\\nTo rise and greet the day with glee.\\n\\nA river’s murmur, a tranquil sound,\\nFlows through valleys, winding around,\\nReflecting skies of endless blue,\\nA canvas painted just for you.\\n\\nMountains stand with timeless grace,\\nGuardians of this sacred place,\\nTheir peaks, a touch of heaven’s door,\\nWhispering secrets of ancient lore.\\n\\nIn this moment, hearts find peace,\\nWorries of the world release,\\nNature’s embrace, a tender hold,\\nA timeless story, forever told.\\n\\nSo let your spirit soar and glide,\\nWith the morning as your guide,\\nFor in each dawn, a chance to see,\\nThe boundless beauty of being free.'"
      ]
     },
     "execution_count": 15,
     "metadata": {},
     "output_type": "execute_result"
    }
   ],
   "source": [
    "llm=LLM('gpt-4o')\n",
    "llm.generate(\"Write a poem\")"
   ]
  },
  {
   "cell_type": "code",
   "execution_count": 17,
   "metadata": {},
   "outputs": [
    {
     "name": "stderr",
     "output_type": "stream",
     "text": [
      "Sure! Here is a poem for you:\n",
      "\n",
      "In the quiet dawn where whispers lie,\n",
      "A golden sun begins to rise,\n",
      "Through the veil of morning dew,\n",
      "It paints the sky in hues anew.\n",
      "\n",
      "Soft tendrils of a waking breeze,\n",
      "Rustle through the ancient trees,\n",
      "Birds call out in sweet refrain,\n",
      "Greeting day with joyful gain.\n",
      "\n",
      "The world awakens, slow and sure,\n",
      "With nature's touch, so calm, so pure,\n",
      "Each moment spins a tale so grand,\n",
      "In this vast, enchanted land.\n",
      "\n",
      "Stars that faded with the night,\n",
      "Yield to day's embracing light,\n",
      "Yet their memory lingers still,\n",
      "In hearts and dreams they gently fill.\n",
      "\n",
      "As hours pass and shadows grow,\n",
      "The sun dips low, its warmest glow,\n",
      "And once again the night will fall,\n",
      "With its silent, starry thrall.\n",
      "\n",
      "In this cycle, life does weave,\n",
      "A tapestry where dreams conceive,\n",
      "In every dusk and every dawn,\n",
      "A promise of a new day's song."
     ]
    },
    {
     "data": {
      "text/plain": [
       "\"Sure! Here is a poem for you:\\n\\nIn the quiet dawn where whispers lie,\\nA golden sun begins to rise,\\nThrough the veil of morning dew,\\nIt paints the sky in hues anew.\\n\\nSoft tendrils of a waking breeze,\\nRustle through the ancient trees,\\nBirds call out in sweet refrain,\\nGreeting day with joyful gain.\\n\\nThe world awakens, slow and sure,\\nWith nature's touch, so calm, so pure,\\nEach moment spins a tale so grand,\\nIn this vast, enchanted land.\\n\\nStars that faded with the night,\\nYield to day's embracing light,\\nYet their memory lingers still,\\nIn hearts and dreams they gently fill.\\n\\nAs hours pass and shadows grow,\\nThe sun dips low, its warmest glow,\\nAnd once again the night will fall,\\nWith its silent, starry thrall.\\n\\nIn this cycle, life does weave,\\nA tapestry where dreams conceive,\\nIn every dusk and every dawn,\\nA promise of a new day's song.\""
      ]
     },
     "execution_count": 17,
     "metadata": {},
     "output_type": "execute_result"
    }
   ],
   "source": [
    "agent=Agent('GPT-4o')\n",
    "agent.generate(\"Write a poem\")"
   ]
  },
  {
   "cell_type": "code",
   "execution_count": 11,
   "metadata": {},
   "outputs": [
    {
     "data": {
      "text/plain": [
       "[{'role': 'system',\n",
       "  'content': 'With reference to any code or documentation provided, answer the following questions by the user. Show only those lines or functions that were changed, and explain the changes.'},\n",
       " {'role': 'user', 'content': [{'type': 'text', 'text': 'Hello'}]}]"
      ]
     },
     "execution_count": 11,
     "metadata": {},
     "output_type": "execute_result"
    }
   ],
   "source": [
    "agent1 = Agent('GPT-4o')\n",
    "agent2 = Agent('GPT-3.5')\n",
    "agent1.format_prompt(\"Hello\")"
   ]
  },
  {
   "cell_type": "code",
   "execution_count": 12,
   "metadata": {},
   "outputs": [
    {
     "data": {
      "text/plain": [
       "[{'role': 'system',\n",
       "  'content': 'With reference to any code or documentation provided, answer the following questions by the user. Show only those lines or functions that were changed, and explain the changes.'},\n",
       " {'role': 'user', 'content': [{'type': 'text', 'text': 'Hello'}]}]"
      ]
     },
     "execution_count": 12,
     "metadata": {},
     "output_type": "execute_result"
    }
   ],
   "source": [
    "agent2.format_prompt('Hello')"
   ]
  },
  {
   "cell_type": "code",
   "execution_count": 13,
   "metadata": {},
   "outputs": [
    {
     "name": "stderr",
     "output_type": "stream",
     "text": [
      "Hello! It seems like your question might be a bit unclear. Are you asking for help with a \"Hello, World\" program in a specific programming language? If so, please specify the language and any particular requirements or issues you're encountering, and I'll be happy to assist you!\n",
      "\n",
      "For example, here's a simple \"Hello, World!\" program in Python:\n",
      "\n",
      "```python\n",
      "print(\"Hello, World!\")\n",
      "```\n",
      "\n",
      "If you need this in another language or have other questions, please let me know!"
     ]
    },
    {
     "data": {
      "text/plain": [
       "'Hello! It seems like your question might be a bit unclear. Are you asking for help with a \"Hello, World\" program in a specific programming language? If so, please specify the language and any particular requirements or issues you\\'re encountering, and I\\'ll be happy to assist you!\\n\\nFor example, here\\'s a simple \"Hello, World!\" program in Python:\\n\\n```python\\nprint(\"Hello, World!\")\\n```\\n\\nIf you need this in another language or have other questions, please let me know!'"
      ]
     },
     "execution_count": 13,
     "metadata": {},
     "output_type": "execute_result"
    }
   ],
   "source": [
    "agent1.generate(\"Hello world?\")"
   ]
  },
  {
   "cell_type": "code",
   "execution_count": 14,
   "metadata": {},
   "outputs": [
    {
     "name": "stderr",
     "output_type": "stream",
     "text": [
      "Hello! It seems like you're asking about the traditional \"Hello, World!\" program, which is often the first program written when learning a new programming language. Here's an example in Python:\n",
      "\n",
      "```python\n",
      "print(\"Hello, World!\")\n",
      "```\n",
      "\n",
      "If you have specific code or documentation you need help with, please provide the details, and I'll be happy to assist you!"
     ]
    },
    {
     "data": {
      "text/plain": [
       "'Hello! It seems like you\\'re asking about the traditional \"Hello, World!\" program, which is often the first program written when learning a new programming language. Here\\'s an example in Python:\\n\\n```python\\nprint(\"Hello, World!\")\\n```\\n\\nIf you have specific code or documentation you need help with, please provide the details, and I\\'ll be happy to assist you!'"
      ]
     },
     "execution_count": 14,
     "metadata": {},
     "output_type": "execute_result"
    }
   ],
   "source": [
    "agent2.generate(\"Hello world?\")"
   ]
  },
  {
   "cell_type": "code",
   "execution_count": null,
   "metadata": {},
   "outputs": [],
   "source": []
  }
 ],
 "metadata": {
  "kernelspec": {
   "display_name": "venv",
   "language": "python",
   "name": "python3"
  },
  "language_info": {
   "codemirror_mode": {
    "name": "ipython",
    "version": 3
   },
   "file_extension": ".py",
   "mimetype": "text/x-python",
   "name": "python",
   "nbconvert_exporter": "python",
   "pygments_lexer": "ipython3",
   "version": "3.10.7"
  }
 },
 "nbformat": 4,
 "nbformat_minor": 2
}
