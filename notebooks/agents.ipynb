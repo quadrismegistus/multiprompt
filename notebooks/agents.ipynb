{
 "cells": [
  {
   "cell_type": "code",
   "execution_count": 1,
   "metadata": {},
   "outputs": [],
   "source": [
    "import sys; sys.path.append('..')\n",
    "from multiprompt import *\n",
    "from multiprompt.repo2llm import *"
   ]
  },
  {
   "cell_type": "code",
   "execution_count": 25,
   "metadata": {},
   "outputs": [],
   "source": [
    "def get_last_message_txt(litellm_openai_messages):\n",
    "    \"\"\"Extract the text content of the last user message.\"\"\"\n",
    "    user_messages = [msg for msg in litellm_openai_messages]\n",
    "    if user_messages:\n",
    "        last_user_message = user_messages[-1]\n",
    "        if isinstance(last_user_message['content'], str):\n",
    "            return last_user_message['content']\n",
    "        elif isinstance(last_user_message['content'], list):\n",
    "            return ' '.join([item['text'] for item in last_user_message['content'] if item['type'] == 'text'])\n",
    "    return \"\"\n",
    "\n",
    "\n",
    "def tokenize_agnostic(txt):\n",
    "    return re.findall(r\"[\\w']+|[.,!?; -—–'\\n]\", txt)\n",
    "\n",
    "def redact_token(x):\n",
    "    if x and x[0].isalpha() and x[0]==x[0].upper():\n",
    "        return x[0] + ('-' * len(x[1:]))\n",
    "    return x\n",
    "\n",
    "def redact(messages):\n",
    "    pprint(['INPUT',messages])\n",
    "    txt = get_last_message_txt(messages)\n",
    "    tokens = tokenize_agnostic(txt)\n",
    "    tokens = [redact_token(token) for token in tokens]\n",
    "    return tokens\n",
    "\n",
    "agent=Agent('Redacter', algorithm_func=redact)\n"
   ]
  },
  {
   "cell_type": "code",
   "execution_count": 26,
   "metadata": {},
   "outputs": [
    {
     "data": {
      "text/plain": [
       "multiprompt.agents.AlgorithmicAgent"
      ]
     },
     "execution_count": 26,
     "metadata": {},
     "output_type": "execute_result"
    }
   ],
   "source": [
    "type(agent)"
   ]
  },
  {
   "cell_type": "code",
   "execution_count": 27,
   "metadata": {},
   "outputs": [
    {
     "name": "stderr",
     "output_type": "stream",
     "text": [
      "H---- world"
     ]
    },
    {
     "data": {
      "text/plain": [
       "'H---- world'"
      ]
     },
     "execution_count": 27,
     "metadata": {},
     "output_type": "execute_result"
    }
   ],
   "source": [
    "# run_async(agent.generate_async, \"Hello\")\n",
    "agent.generate(\"Hello world\")"
   ]
  },
  {
   "cell_type": "code",
   "execution_count": 28,
   "metadata": {},
   "outputs": [
    {
     "ename": "AttributeError",
     "evalue": "'AgentModel' object has no attribute 'format_prompt'",
     "output_type": "error",
     "traceback": [
      "\u001b[0;31m---------------------------------------------------------------------------\u001b[0m",
      "\u001b[0;31mAttributeError\u001b[0m                            Traceback (most recent call last)",
      "Cell \u001b[0;32mIn[28], line 3\u001b[0m\n\u001b[1;32m      1\u001b[0m agent1 \u001b[38;5;241m=\u001b[39m Agent(\u001b[38;5;124m'\u001b[39m\u001b[38;5;124mGPT-4o\u001b[39m\u001b[38;5;124m'\u001b[39m)\n\u001b[1;32m      2\u001b[0m agent2 \u001b[38;5;241m=\u001b[39m Agent(\u001b[38;5;124m'\u001b[39m\u001b[38;5;124mGPT-3.5\u001b[39m\u001b[38;5;124m'\u001b[39m)\n\u001b[0;32m----> 3\u001b[0m \u001b[43magent1\u001b[49m\u001b[38;5;241;43m.\u001b[39;49m\u001b[43mformat_prompt\u001b[49m(\u001b[38;5;124m\"\u001b[39m\u001b[38;5;124mHello\u001b[39m\u001b[38;5;124m\"\u001b[39m)\n",
      "\u001b[0;31mAttributeError\u001b[0m: 'AgentModel' object has no attribute 'format_prompt'"
     ]
    }
   ],
   "source": [
    "agent1 = Agent('GPT-4o')\n",
    "agent2 = Agent('GPT-3.5')"
   ]
  },
  {
   "cell_type": "code",
   "execution_count": null,
   "metadata": {},
   "outputs": [],
   "source": [
    "agent2.format_prompt('Hello')"
   ]
  },
  {
   "cell_type": "code",
   "execution_count": null,
   "metadata": {},
   "outputs": [],
   "source": [
    "agent1.generate(\"Hello world?\")"
   ]
  },
  {
   "cell_type": "code",
   "execution_count": null,
   "metadata": {},
   "outputs": [],
   "source": [
    "agent2.generate(\"Hello world?\")"
   ]
  },
  {
   "cell_type": "code",
   "execution_count": null,
   "metadata": {},
   "outputs": [],
   "source": []
  }
 ],
 "metadata": {
  "kernelspec": {
   "display_name": "venv",
   "language": "python",
   "name": "python3"
  },
  "language_info": {
   "codemirror_mode": {
    "name": "ipython",
    "version": 3
   },
   "file_extension": ".py",
   "mimetype": "text/x-python",
   "name": "python",
   "nbconvert_exporter": "python",
   "pygments_lexer": "ipython3",
   "version": "3.10.7"
  }
 },
 "nbformat": 4,
 "nbformat_minor": 2
}
