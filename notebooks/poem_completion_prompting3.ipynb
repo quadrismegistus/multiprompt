{
 "cells": [
  {
   "cell_type": "code",
   "execution_count": 1,
   "metadata": {},
   "outputs": [],
   "source": [
    "import sys; sys.path.insert(0,'..')\n",
    "from tqdm.auto import tqdm\n",
    "tqdm.pandas()\n",
    "from multiprompt import *"
   ]
  },
  {
   "cell_type": "code",
   "execution_count": 2,
   "metadata": {},
   "outputs": [],
   "source": [
    "def get_first_n_lines(txt, n=5):\n",
    "    lines = []\n",
    "    nline = 0\n",
    "    for ln in txt.split('\\n'):\n",
    "        if n and nline >= n: break\n",
    "        if ln.strip(): \n",
    "            nline+=1\n",
    "            lines.append(f'{nline}\\t{ln}')\n",
    "        else:\n",
    "            lines.append(ln)\n",
    "    return '\\n'.join(ln for i,ln in enumerate(lines)).strip()\n"
   ]
  },
  {
   "cell_type": "code",
   "execution_count": 3,
   "metadata": {},
   "outputs": [],
   "source": [
    "poem=\"\"\"\n",
    "And if I have a soul my soul is green\n",
    "And if it sings it doesn't sing to me\n",
    "And if it loves it loves externally\n",
    "Both what it has and what it hasn't seen\n",
    "\n",
    "And if it's green it may as well be high\n",
    "And if ambition doesn't give it height\n",
    "And if it only rises with a fight\n",
    "Against itself and not against the sky\n",
    "\n",
    "If all the force it uses leaves me free\n",
    "This proves it not just definite but right\n",
    "\"\"\"\n",
    "\n",
    "poem2=\"\"\"\n",
    "When most I wink, then do mine eyes best see,\n",
    "For all the day they view things unrespected;\n",
    "But when I sleep, in dreams they look on thee,\n",
    "And darkly bright are bright in dark directed.\n",
    "Then thou, whose shadow shadows doth make bright,\n",
    "How would thy shadow's form form happy show\n",
    "To the clear day with thy much clearer light,\n",
    "When to unseeing eyes thy shade shines so!\n",
    "How would, I say, mine eyes be blessed made\n",
    "By looking on thee in the living day,\n",
    "When in dead night thy fair imperfect shade\n",
    "Through heavy sleep on sightless eyes doth stay!\n",
    "All days are nights to see till I see thee,\n",
    "And nights bright days when dreams do show thee me.\n",
    "\"\"\"\n",
    "\n",
    "poem3=\"\"\"\n",
    "While the water tower squats Like a Turkish bird\n",
    "on the ridge and smiles more nicely the other way in green\n",
    "and bougainvillaea to where the warmest houses face north,\n",
    "\n",
    "the dead well-to-do are ignored and grumble in the plumbing.\n",
    "This could be a local myth. There could be many.\n",
    "Stark living rooms made to be seen into\n",
    "\n",
    "stare at each other often across the streets and say secrets.\n",
    "No brass and marble now. But it's more humbling\n",
    "buying groceries on a teak floor and more Like us\n",
    "\n",
    "to prefer the peopled ruin. I see the gaping fanlight\n",
    "in the hallway behind a fruit-stall on the stoep\n",
    "after rugby and now when it's dry and the roads turn back\n",
    "\n",
    "to gravel into driveways, dust rises and sweet william and anthracite\n",
    "are there. There is a real side, where, when you never stopped before,\n",
    "you hear whispering on corners only you understand.\n",
    "\"\"\"\n",
    "\n",
    "# print(get_first_n_lines(poem, None))"
   ]
  },
  {
   "cell_type": "code",
   "execution_count": 4,
   "metadata": {},
   "outputs": [],
   "source": [
    "\n",
    "def get_chadwyck_corpus(\n",
    "        min_lines=10, \n",
    "        max_lines=20,\n",
    "        corpus_root = '/Users/ryan/lltk_data/corpora/chadwyck_poetry', \n",
    "        first_n_lines=5,\n",
    "        ):\n",
    "    df = pd.read_csv(os.path.join(corpus_root, 'metadata.csv'))\n",
    "    df=df.query(f'{min_lines}<=num_lines<={max_lines}')\n",
    "    def get_txt(id):\n",
    "        fn = os.path.join(corpus_root, 'txt', id) + '.txt'\n",
    "        if os.path.exists(fn):\n",
    "            with open(fn) as f:\n",
    "                return f.read().strip()\n",
    "        return \"\"\n",
    "\n",
    "    df['poem'] = df['id'].progress_apply(get_txt)\n",
    "\n",
    "    # df['fstanza'] = df.poem.apply(lambda x: x.strip().split('\\n\\n')[0].strip())\n",
    "    # df['fstanza_nline'] = df.fstanza.apply(lambda x: len(x.split('\\n')))\n",
    "    # df['flines'] = df.poem.apply(lambda x: get_first_n_lines(x, first_n_lines))\n",
    "    # df['flines_nline'] = df.flines.apply(lambda x: len(x.split('\\n')))\n",
    "\n",
    "    # def make_prompt(row):\n",
    "    #     return f'TITLE: {row.title}\\nAUTHOR: {row.attpoet}\\nNUMBER OF LINES: {row.num_lines}\\n\\n{row.flines}'\n",
    "\n",
    "    # df['prompt'] = df.apply(make_prompt, axis=1)\n",
    "    return df"
   ]
  },
  {
   "cell_type": "code",
   "execution_count": 5,
   "metadata": {},
   "outputs": [
    {
     "data": {
      "application/vnd.jupyter.widget-view+json": {
       "model_id": "1435cffeb84940ca8119ab44693a8905",
       "version_major": 2,
       "version_minor": 0
      },
      "text/plain": [
       "  0%|          | 0/103103 [00:00<?, ?it/s]"
      ]
     },
     "metadata": {},
     "output_type": "display_data"
    }
   ],
   "source": [
    "df = get_chadwyck_corpus()"
   ]
  },
  {
   "cell_type": "code",
   "execution_count": null,
   "metadata": {},
   "outputs": [],
   "source": []
  },
  {
   "cell_type": "code",
   "execution_count": 8,
   "metadata": {},
   "outputs": [],
   "source": [
    "def get_system_prompt(first_n_lines=2):\n",
    "    system_prompt = f'''\n",
    "The following is the first {first_n_lines} lines from a poem given in the user prompt, whose true number of lines is stated there.\n",
    "\n",
    "Complete the poem – do this from memory if you know it; if not, imitate its style and theme for the same number of lines as in the original.\n",
    "\n",
    "Return lines in tab-separated form, starting from line {first_n_lines+1} up to the stated number of lines:\n",
    "\n",
    "    line#\\tline\n",
    "\n",
    "Do not return any other text besides these tab-separated lines.\n",
    "'''.strip()\n",
    "    return system_prompt\n",
    "\n",
    "def get_user_prompt(txt, first_n_lines=2, **meta):\n",
    "    prompt=[]\n",
    "    for k in meta:\n",
    "        prompt.append(f'{k.upper()}: {meta[k]}')\n",
    "    \n",
    "    num_lines = len([x for x in txt.split('\\n') if x.strip()])\n",
    "    prompt.append(f'NUMBER OF LINES: {num_lines}')\n",
    "    prompt.append('')\n",
    "    prompt.append(get_first_n_lines(txt, first_n_lines))\n",
    "    return '\\n'.join(prompt)\n",
    "\n",
    "\n",
    "\n",
    "def complete_poem(txt, first_n_lines=2, _force=False, model='deepseek/deepseek-chat', **meta):\n",
    "    all_lines = get_first_n_lines(txt, None)\n",
    "    num_lines = int(all_lines.split('\\n')[-1].split('\\t')[0])\n",
    "    user_prompt = get_user_prompt(txt, first_n_lines=first_n_lines, **meta)\n",
    "    system_prompt = get_system_prompt(first_n_lines=first_n_lines)\n",
    "    \n",
    "    agent = Agent('poem_completions')\n",
    "    print(system_prompt)\n",
    "    print(user_prompt)\n",
    "    print('*',end=\"\",flush=True)\n",
    "    response = agent.generate(\n",
    "        user_prompt, \n",
    "        system_prompt=system_prompt,\n",
    "        verbose=True, \n",
    "        model=model,\n",
    "        _force=_force,\n",
    "    )\n",
    "    \n",
    "    o=[]\n",
    "    for ln in response.strip().split('\\n'):\n",
    "        if '\\t' in ln:\n",
    "            o.append(ln.strip().split('\\t',1))\n",
    "    \n",
    "    if len(o) != (num_lines - first_n_lines):\n",
    "        logger.warning(f'Line length mismatch: {len(o)} output to needed {num_lines - first_n_lines}')\n",
    "\n",
    "    return o\n",
    "    \n"
   ]
  },
  {
   "cell_type": "code",
   "execution_count": 9,
   "metadata": {},
   "outputs": [],
   "source": [
    "# row=df.query('author_dob>=1970').sample(n=1).iloc[0]\n",
    "# print(row.attpoet)\n",
    "# print()\n",
    "# print(row.poem)"
   ]
  },
  {
   "cell_type": "code",
   "execution_count": 10,
   "metadata": {},
   "outputs": [
    {
     "name": "stdout",
     "output_type": "stream",
     "text": [
      "The following is the first 5 lines from a poem given in the user prompt, whose true number of lines is stated there.\n",
      "\n",
      "Complete the poem – do this from memory if you know it; if not, imitate its style and theme for the same number of lines as in the original.\n",
      "\n",
      "Return lines in tab-separated form, starting from line 6 up to the stated number of lines:\n",
      "\n",
      "    line#\tline\n",
      "\n",
      "Do not return any other text besides these tab-separated lines.\n",
      "NUMBER OF LINES: 15\n",
      "\n",
      "1\tWhile the water tower squats Like a Turkish bird\n",
      "2\ton the ridge and smiles more nicely the other way in green\n",
      "3\tand bougainvillaea to where the warmest houses face north,\n",
      "\n",
      "4\tthe dead well-to-do are ignored and grumble in the plumbing.\n",
      "5\tThis could be a local myth. There could be many.\n",
      "*"
     ]
    },
    {
     "data": {
      "text/plain": [
       "[['6', 'The streets are quiet, the air is still,'],\n",
       " ['7', 'and shadows stretch across the hill.'],\n",
       " ['8', 'The wind whispers through the trees,'],\n",
       " ['9', 'carrying secrets on its breeze.'],\n",
       " ['10', 'The moon rises, pale and thin,'],\n",
       " ['11', 'casting light where night begins.'],\n",
       " ['12', 'The stars blink in the velvet sky,'],\n",
       " ['13', 'as if they know the reason why.'],\n",
       " ['14', 'The town sleeps, its dreams unfold,'],\n",
       " ['15', 'in stories told, in whispers old.']]"
      ]
     },
     "execution_count": 10,
     "metadata": {},
     "output_type": "execute_result"
    }
   ],
   "source": [
    "complete_poem(poem3, 5, _force=False)"
   ]
  },
  {
   "cell_type": "code",
   "execution_count": 11,
   "metadata": {},
   "outputs": [],
   "source": [
    "# df=get_chadwyck_corpus(first_n_lines=first_n_lines)"
   ]
  },
  {
   "cell_type": "code",
   "execution_count": 12,
   "metadata": {},
   "outputs": [],
   "source": [
    "# row = df.query('author_dob>=1950').sample(n=1).iloc[0]\n",
    "# # row = df[df.attpoet.str.contains('Shakespeare')].sample(n=1).iloc[0]\n",
    "# user_prompt = row.prompt\n",
    "# print(user_prompt)\n",
    "# print('\\n---------\\n')\n",
    "# print(row.poem)"
   ]
  },
  {
   "cell_type": "code",
   "execution_count": 13,
   "metadata": {},
   "outputs": [
    {
     "ename": "NameError",
     "evalue": "name 'user_prompt' is not defined",
     "output_type": "error",
     "traceback": [
      "\u001b[31m---------------------------------------------------------------------------\u001b[39m",
      "\u001b[31mNameError\u001b[39m                                 Traceback (most recent call last)",
      "\u001b[36mCell\u001b[39m\u001b[36m \u001b[39m\u001b[32mIn[13]\u001b[39m\u001b[32m, line 2\u001b[39m\n\u001b[32m      1\u001b[39m agent = Agent(\u001b[33m'\u001b[39m\u001b[33mpoem_completions\u001b[39m\u001b[33m'\u001b[39m)\n\u001b[32m----> \u001b[39m\u001b[32m2\u001b[39m \u001b[38;5;28mprint\u001b[39m(\u001b[43muser_prompt\u001b[49m)\n\u001b[32m      3\u001b[39m response = agent.generate(\n\u001b[32m      4\u001b[39m     user_prompt, \n\u001b[32m      5\u001b[39m     system_prompt=system_prompt,\n\u001b[32m   (...)\u001b[39m\u001b[32m     10\u001b[39m     \u001b[38;5;66;03m# model='gpt-3.5-turbo'\u001b[39;00m\n\u001b[32m     11\u001b[39m )\n",
      "\u001b[31mNameError\u001b[39m: name 'user_prompt' is not defined"
     ]
    }
   ],
   "source": [
    "agent = Agent('poem_completions')\n",
    "print(user_prompt)\n",
    "response = agent.generate(\n",
    "    user_prompt, \n",
    "    system_prompt=system_prompt,\n",
    "    verbose=True, \n",
    "    model='deepseek/deepseek-chat',\n",
    "    _force=True,\n",
    "    # model='ollama/llama3:instruct',\n",
    "    # model='gpt-3.5-turbo'\n",
    ")"
   ]
  },
  {
   "cell_type": "code",
   "execution_count": null,
   "metadata": {},
   "outputs": [],
   "source": []
  }
 ],
 "metadata": {
  "kernelspec": {
   "display_name": "venv",
   "language": "python",
   "name": "python3"
  },
  "language_info": {
   "codemirror_mode": {
    "name": "ipython",
    "version": 3
   },
   "file_extension": ".py",
   "mimetype": "text/x-python",
   "name": "python",
   "nbconvert_exporter": "python",
   "pygments_lexer": "ipython3",
   "version": "3.11.7"
  }
 },
 "nbformat": 4,
 "nbformat_minor": 2
}
